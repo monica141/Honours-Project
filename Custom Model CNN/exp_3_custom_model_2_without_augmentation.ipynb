{
 "cells": [
  {
   "cell_type": "markdown",
   "metadata": {
    "id": "JXv6fbOgbCEf"
   },
   "source": [
    "# custom model two - without augmentation\n"
   ]
  },
  {
   "cell_type": "markdown",
   "metadata": {
    "id": "_DritUSOrLrW"
   },
   "source": [
    "## Context\n",
    "The data consists of images of 23 types of skin diseases taken from http://www.dermnet.com/dermatology-pictures-skin-disease-pictures. The total number of images are around 19,500, out of which approximately 15,500 have been split in the training set and the remaining in the test set."
   ]
  },
  {
   "cell_type": "code",
   "execution_count": 1,
   "metadata": {
    "colab": {
     "base_uri": "https://localhost:8080/"
    },
    "executionInfo": {
     "elapsed": 22173,
     "status": "ok",
     "timestamp": 1619544990260,
     "user": {
      "displayName": "Abhishek Barai",
      "photoUrl": "",
      "userId": "03670053452487652369"
     },
     "user_tz": -330
    },
    "id": "K91eMG8j6lEH",
    "outputId": "b840c0f7-fb62-499d-b548-0406c8303736"
   },
   "outputs": [
    {
     "name": "stdout",
     "output_type": "stream",
     "text": [
      "Mounted at /content/drive\n"
     ]
    }
   ],
   "source": [
    "from google.colab import drive\n",
    "drive.mount('/content/drive')"
   ]
  },
  {
   "cell_type": "markdown",
   "metadata": {
    "id": "RlCR1vzx9m9a"
   },
   "source": [
    "## 1. Import Libraries"
   ]
  },
  {
   "cell_type": "code",
   "execution_count": 2,
   "metadata": {
    "executionInfo": {
     "elapsed": 3337,
     "status": "ok",
     "timestamp": 1619545001888,
     "user": {
      "displayName": "Abhishek Barai",
      "photoUrl": "",
      "userId": "03670053452487652369"
     },
     "user_tz": -330
    },
    "id": "CW-bpoj5fomI"
   },
   "outputs": [],
   "source": [
    "import datetime\n",
    "import operator\n",
    "##open cv\n",
    "import cv2\n",
    "from google.colab.patches import cv2_imshow\n",
    "import random\n",
    "#numpy-pandas\n",
    "import numpy as np\n",
    "import pandas as pd\n",
    "from sklearn.model_selection import train_test_split\n",
    "#visualization\n",
    "import seaborn as sns\n",
    "import matplotlib.pyplot as plt\n",
    "\n",
    "#tensorflow and utilities\n",
    "import tensorflow as tf\n",
    "from tensorflow.keras.utils import plot_model\n",
    "from tensorflow.keras.backend import clear_session\n",
    "from tensorflow.keras.preprocessing.image import ImageDataGenerator, load_img, img_to_array\n",
    "from tensorflow.keras import regularizers\n",
    "\n",
    "#tensorflow model, layers, optimizers etc\n",
    "from tensorflow.keras import Input \n",
    "from tensorflow.keras.models import Sequential, Model\n",
    "from tensorflow.keras.optimizers import RMSprop,SGD,Adam\n",
    "from tensorflow.keras.layers import Conv2D, MaxPool2D, Dense, Flatten, Dropout, Activation, BatchNormalization\n",
    "from tensorflow.keras.layers import MaxPooling2D, concatenate, AveragePooling2D, GlobalAveragePooling2D\n",
    "\n",
    "#callbacks\n",
    "from tensorflow.keras.callbacks import BaseLogger, CSVLogger, EarlyStopping, ModelCheckpoint\n",
    "from tensorflow.keras.callbacks import LearningRateScheduler, TensorBoard, ReduceLROnPlateau\n",
    "\n",
    "#pretrained models\n",
    "from keras.applications.resnet50 import ResNet50\n",
    "from tensorflow.keras.applications.vgg16 import VGG16\n",
    "from tensorflow.keras.applications.vgg16 import  preprocess_input\n",
    "from tensorflow.keras.applications.resnet import  preprocess_input\n",
    "\n",
    "import warnings\n",
    "warnings.filterwarnings(\"ignore\")\n",
    "\n",
    "from sklearn.metrics import classification_report, confusion_matrix, plot_confusion_matrix"
   ]
  },
  {
   "cell_type": "markdown",
   "metadata": {
    "id": "x9Fz0c7Q9rwl"
   },
   "source": [
    "## 2. Import Data"
   ]
  },
  {
   "cell_type": "code",
   "execution_count": 3,
   "metadata": {
    "executionInfo": {
     "elapsed": 6144,
     "status": "ok",
     "timestamp": 1619545005225,
     "user": {
      "displayName": "Abhishek Barai",
      "photoUrl": "",
      "userId": "03670053452487652369"
     },
     "user_tz": -330
    },
    "id": "ktKw8GZ9hTAe"
   },
   "outputs": [],
   "source": [
    "#getting dataframes of train and test data\n",
    "train_df = pd.read_csv(\"/content/drive/MyDrive/Dermnet/Files/final_dataframe/final_train_df.csv\")\n",
    "test_df = pd.read_csv(\"/content/drive/MyDrive/Dermnet/Files/final_dataframe/final_test_df.csv\")"
   ]
  },
  {
   "cell_type": "code",
   "execution_count": 4,
   "metadata": {
    "colab": {
     "base_uri": "https://localhost:8080/"
    },
    "executionInfo": {
     "elapsed": 6139,
     "status": "ok",
     "timestamp": 1619545005226,
     "user": {
      "displayName": "Abhishek Barai",
      "photoUrl": "",
      "userId": "03670053452487652369"
     },
     "user_tz": -330
    },
    "id": "h2JaB5oQjCwt",
    "outputId": "1c715f2f-17c9-41e8-be48-4bb5d4eef7af"
   },
   "outputs": [
    {
     "name": "stdout",
     "output_type": "stream",
     "text": [
      "Shape of train dataset is (14523, 4).\n",
      "Shape of test dataset is (3527, 4).\n"
     ]
    }
   ],
   "source": [
    "train_df[\"path\"] = train_df[\"class\"] + \"/\" + train_df[\"image_name\"]\n",
    "test_df[\"path\"] = test_df[\"class\"] + \"/\" + test_df[\"image_name\"]\n",
    "\n",
    "print(\"Shape of train dataset is {}.\".format(train_df.shape))\n",
    "print(\"Shape of test dataset is {}.\".format(test_df.shape))"
   ]
  },
  {
   "cell_type": "code",
   "execution_count": 5,
   "metadata": {
    "colab": {
     "base_uri": "https://localhost:8080/"
    },
    "executionInfo": {
     "elapsed": 6135,
     "status": "ok",
     "timestamp": 1619545005227,
     "user": {
      "displayName": "Abhishek Barai",
      "photoUrl": "",
      "userId": "03670053452487652369"
     },
     "user_tz": -330
    },
    "id": "FtJKFxd0mDwa",
    "outputId": "a4160096-27ab-42e4-b1f0-b6400d285fe3"
   },
   "outputs": [
    {
     "data": {
      "text/plain": [
       "Seborrheic Keratoses and other Benign Tumors                          1350\n",
       "Psoriasis pictures Lichen Planus and related diseases                 1297\n",
       "Eczema Photos                                                         1222\n",
       "Tinea Ringworm Candidiasis and other Fungal Infections                1218\n",
       "Actinic Keratosis Basal Cell Carcinoma and other Malignant Lesions    1118\n",
       "Warts Molluscum and other Viral Infections                             985\n",
       "Nail Fungus and other Nail Disease                                     855\n",
       "Systemic Disease                                                       568\n",
       "Acne and Rosacea Photos                                                561\n",
       "Light Diseases and Disorders of Pigmentation                           546\n",
       "Atopic Dermatitis Photos                                               485\n",
       "Vascular Tumors                                                        482\n",
       "Melanoma Skin Cancer Nevi and Moles                                    456\n",
       "Bullous Disease Photos                                                 440\n",
       "Lupus and other Connective Tissue diseases                             415\n",
       "Vasculitis Photos                                                      405\n",
       "Exanthems and Drug Eruptions                                           397\n",
       "Scabies Lyme Disease and other Infestations and Bites                  383\n",
       "Herpes HPV and other STDs Photos                                       382\n",
       "Cellulitis Impetigo and other Bacterial Infections                     284\n",
       "Poison Ivy Photos and other Contact Dermatitis                         250\n",
       "Hair Loss Photos Alopecia and other Hair Diseases                      212\n",
       "Urticaria Hives                                                        212\n",
       "Name: class, dtype: int64"
      ]
     },
     "execution_count": 5,
     "metadata": {
      "tags": []
     },
     "output_type": "execute_result"
    }
   ],
   "source": [
    "train_df[\"class\"].value_counts()"
   ]
  },
  {
   "cell_type": "code",
   "execution_count": 6,
   "metadata": {
    "colab": {
     "base_uri": "https://localhost:8080/"
    },
    "executionInfo": {
     "elapsed": 6131,
     "status": "ok",
     "timestamp": 1619545005227,
     "user": {
      "displayName": "Abhishek Barai",
      "photoUrl": "",
      "userId": "03670053452487652369"
     },
     "user_tz": -330
    },
    "id": "DBBsC2j_nzFN",
    "outputId": "a8cdd9d5-b6ba-4951-ab99-a44ef1b7f982"
   },
   "outputs": [
    {
     "data": {
      "text/plain": [
       "Psoriasis pictures Lichen Planus and related diseases                 339\n",
       "Seborrheic Keratoses and other Benign Tumors                          339\n",
       "Tinea Ringworm Candidiasis and other Fungal Infections                309\n",
       "Eczema Photos                                                         300\n",
       "Actinic Keratosis Basal Cell Carcinoma and other Malignant Lesions    283\n",
       "Warts Molluscum and other Viral Infections                            247\n",
       "Nail Fungus and other Nail Disease                                    210\n",
       "Systemic Disease                                                      143\n",
       "Light Diseases and Disorders of Pigmentation                          137\n",
       "Vascular Tumors                                                       121\n",
       "Atopic Dermatitis Photos                                              120\n",
       "Melanoma Skin Cancer Nevi and Moles                                   115\n",
       "Bullous Disease Photos                                                113\n",
       "Vasculitis Photos                                                     104\n",
       "Lupus and other Connective Tissue diseases                            100\n",
       "Exanthems and Drug Eruptions                                          100\n",
       "Scabies Lyme Disease and other Infestations and Bites                  92\n",
       "Herpes HPV and other STDs Photos                                       86\n",
       "Cellulitis Impetigo and other Bacterial Infections                     70\n",
       "Poison Ivy Photos and other Contact Dermatitis                         59\n",
       "Urticaria Hives                                                        53\n",
       "Hair Loss Photos Alopecia and other Hair Diseases                      46\n",
       "Acne and Rosacea Photos                                                41\n",
       "Name: class, dtype: int64"
      ]
     },
     "execution_count": 6,
     "metadata": {
      "tags": []
     },
     "output_type": "execute_result"
    }
   ],
   "source": [
    "test_df[\"class\"].value_counts()"
   ]
  },
  {
   "cell_type": "markdown",
   "metadata": {
    "id": "vPDCt2gk9uMu"
   },
   "source": [
    "## 3. Class Selection\n",
    "\n",
    "* The classes selected below are based on the distinctive nature of them. Classes are:\n",
    "    * Hair Loss Photos Alopecia and other Hair Diseases\n",
    "    * Herpes HPV and other STDs Photos\n",
    "    * Melanoma Skin Cancer Nevi and Moles\n",
    "    * Nail Fungus and other Nail Disease\n",
    "    * Urticaria Hives"
   ]
  },
  {
   "cell_type": "code",
   "execution_count": 7,
   "metadata": {
    "colab": {
     "base_uri": "https://localhost:8080/"
    },
    "executionInfo": {
     "elapsed": 5050,
     "status": "ok",
     "timestamp": 1619545005228,
     "user": {
      "displayName": "Abhishek Barai",
      "photoUrl": "",
      "userId": "03670053452487652369"
     },
     "user_tz": -330
    },
    "id": "mxjIA5fSlG5O",
    "outputId": "77d3e570-cd6e-4d53-8a56-ade4a2ef53db"
   },
   "outputs": [
    {
     "data": {
      "text/plain": [
       "Nail Fungus and other Nail Disease                   500\n",
       "Melanoma Skin Cancer Nevi and Moles                  456\n",
       "Herpes HPV and other STDs Photos                     382\n",
       "Urticaria Hives                                      212\n",
       "Hair Loss Photos Alopecia and other Hair Diseases    212\n",
       "Name: class, dtype: int64"
      ]
     },
     "execution_count": 7,
     "metadata": {
      "tags": []
     },
     "output_type": "execute_result"
    }
   ],
   "source": [
    "class_to_keep = [\"Herpes HPV and other STDs Photos\", \"Melanoma Skin Cancer Nevi and Moles\", \"Hair Loss Photos Alopecia and other Hair Diseases\", \"Urticaria Hives\"]\n",
    "train_df_m1 = train_df[train_df[\"class\"].isin(class_to_keep)]\n",
    "test_df_m1 = test_df[test_df[\"class\"].isin(class_to_keep)]\n",
    "\n",
    "#getting only 500 images of nail fungus\n",
    "train_df_m2 = train_df[train_df[\"class\"] == \"Nail Fungus and other Nail Disease\"].iloc[0:500,:]\n",
    "test_df_m2 = test_df[test_df[\"class\"] == \"Nail Fungus and other Nail Disease\"].iloc[0:500,:]\n",
    "\n",
    "merged_train_df = pd.concat([train_df_m1, train_df_m2])\n",
    "merged_test_df = pd.concat([test_df_m1, test_df_m2])\n",
    "\n",
    "#getting the values counts\n",
    "merged_train_df[\"class\"].value_counts()"
   ]
  },
  {
   "cell_type": "markdown",
   "metadata": {
    "id": "mm3lWJhMx2Pi"
   },
   "source": [
    "### 3.1 train-test split"
   ]
  },
  {
   "cell_type": "code",
   "execution_count": 8,
   "metadata": {
    "colab": {
     "base_uri": "https://localhost:8080/"
    },
    "executionInfo": {
     "elapsed": 5043,
     "status": "ok",
     "timestamp": 1619545005228,
     "user": {
      "displayName": "Abhishek Barai",
      "photoUrl": "",
      "userId": "03670053452487652369"
     },
     "user_tz": -330
    },
    "id": "gHzgws6Gx1r3",
    "outputId": "21576ff8-c619-43f0-cb24-b8bd46165a84"
   },
   "outputs": [
    {
     "name": "stdout",
     "output_type": "stream",
     "text": [
      "Shape of train : (1409, 4).\n",
      "Shape of test : (353, 4).\n"
     ]
    }
   ],
   "source": [
    "train_df_final, validation_df_final = train_test_split(merged_train_df, test_size=0.20)\n",
    "print(\"Shape of train : {}.\".format(train_df_final.shape))\n",
    "print(\"Shape of test : {}.\".format(validation_df_final.shape))"
   ]
  },
  {
   "cell_type": "code",
   "execution_count": 9,
   "metadata": {
    "executionInfo": {
     "elapsed": 5037,
     "status": "ok",
     "timestamp": 1619545005229,
     "user": {
      "displayName": "Abhishek Barai",
      "photoUrl": "",
      "userId": "03670053452487652369"
     },
     "user_tz": -330
    },
    "id": "QkeLmKoCsVc9"
   },
   "outputs": [],
   "source": [
    "merged_test_df[\"class_cat\"] = merged_test_df[\"class\"].astype('category').cat.codes\n",
    "y_true = merged_test_df[\"class_cat\"].values"
   ]
  },
  {
   "cell_type": "markdown",
   "metadata": {
    "id": "aIiVAMz_9zon"
   },
   "source": [
    "## 4. Image Pipeline"
   ]
  },
  {
   "cell_type": "code",
   "execution_count": 10,
   "metadata": {
    "executionInfo": {
     "elapsed": 3143,
     "status": "ok",
     "timestamp": 1619545005229,
     "user": {
      "displayName": "Abhishek Barai",
      "photoUrl": "",
      "userId": "03670053452487652369"
     },
     "user_tz": -330
    },
    "id": "BsKLNKcK99cj"
   },
   "outputs": [],
   "source": [
    "channels = 3\n",
    "batchsize = 32\n",
    "num_classes = 5\n",
    "img_rows = 256\n",
    "img_cols = 256 \n",
    "\n",
    "# creating a pipeline for image augmentation using imagedatagenerator\n",
    "datagen = ImageDataGenerator(rescale=1./255,)"
   ]
  },
  {
   "cell_type": "code",
   "execution_count": 11,
   "metadata": {
    "colab": {
     "base_uri": "https://localhost:8080/"
    },
    "executionInfo": {
     "elapsed": 53140,
     "status": "ok",
     "timestamp": 1619545055234,
     "user": {
      "displayName": "Abhishek Barai",
      "photoUrl": "",
      "userId": "03670053452487652369"
     },
     "user_tz": -330
    },
    "id": "wUZh5FcIiXpz",
    "outputId": "1728aa55-85fa-4020-fb9b-435321bc2b81"
   },
   "outputs": [
    {
     "name": "stdout",
     "output_type": "stream",
     "text": [
      "Found 1409 validated image filenames belonging to 5 classes.\n"
     ]
    }
   ],
   "source": [
    "#Train Generator\n",
    "train_generator=datagen.flow_from_dataframe(dataframe = train_df_final, \n",
    "                                            directory=\"/content/drive/MyDrive/Dermnet/Images/train/\", \n",
    "                                            x_col=\"path\", \n",
    "                                            y_col=\"class\", \n",
    "                                            class_mode=\"categorical\",\n",
    "                                            subset=\"training\",\n",
    "                                            shuffle=True,\n",
    "                                            target_size=(img_rows, img_cols),\n",
    "                                            batch_size = batchsize,\n",
    "                                            color_mode='rgb',\n",
    "                                            seed=42)"
   ]
  },
  {
   "cell_type": "code",
   "execution_count": 12,
   "metadata": {
    "colab": {
     "base_uri": "https://localhost:8080/"
    },
    "executionInfo": {
     "elapsed": 53133,
     "status": "ok",
     "timestamp": 1619545055235,
     "user": {
      "displayName": "Abhishek Barai",
      "photoUrl": "",
      "userId": "03670053452487652369"
     },
     "user_tz": -330
    },
    "id": "da5H5ot0jeuy",
    "outputId": "ced13477-b373-4858-9e2c-e0df8cdf5f79"
   },
   "outputs": [
    {
     "name": "stdout",
     "output_type": "stream",
     "text": [
      "Found 353 validated image filenames belonging to 5 classes.\n"
     ]
    }
   ],
   "source": [
    "#Validation Generator\n",
    "valid_generator=datagen.flow_from_dataframe(dataframe = validation_df_final, \n",
    "                                            directory=\"/content/drive/MyDrive/Dermnet/Images/train/\", \n",
    "                                            x_col=\"path\", \n",
    "                                            y_col=\"class\", \n",
    "                                            class_mode=\"categorical\",\n",
    "                                            subset=\"training\",\n",
    "                                            shuffle=True,\n",
    "                                            target_size=(img_rows, img_cols),\n",
    "                                            batch_size = batchsize,\n",
    "                                            color_mode='rgb',\n",
    "                                            seed=42)"
   ]
  },
  {
   "cell_type": "markdown",
   "metadata": {
    "id": "at6cS6e8-Eeu"
   },
   "source": [
    "## 5. Callbacks and functions"
   ]
  },
  {
   "cell_type": "code",
   "execution_count": 13,
   "metadata": {
    "executionInfo": {
     "elapsed": 50438,
     "status": "ok",
     "timestamp": 1619545055236,
     "user": {
      "displayName": "Abhishek Barai",
      "photoUrl": "",
      "userId": "03670053452487652369"
     },
     "user_tz": -330
    },
    "id": "xoHacz3Z-9WB"
   },
   "outputs": [],
   "source": [
    "#Loading TensorBoard\n",
    "%load_ext tensorboard\n",
    "\n",
    "# Clear any logs from previous runs\n",
    "!rm -rf ./logs/ "
   ]
  },
  {
   "cell_type": "code",
   "execution_count": 14,
   "metadata": {
    "executionInfo": {
     "elapsed": 50432,
     "status": "ok",
     "timestamp": 1619545055237,
     "user": {
      "displayName": "Abhishek Barai",
      "photoUrl": "",
      "userId": "03670053452487652369"
     },
     "user_tz": -330
    },
    "id": "E8dNzxc2-RmS"
   },
   "outputs": [],
   "source": [
    "#reduce learning rate\n",
    "reduceLR = ReduceLROnPlateau(monitor='val_loss',\n",
    "                             factor=0.2,\n",
    "                             patience=3,\n",
    "                             min_lr=0.001)"
   ]
  },
  {
   "cell_type": "code",
   "execution_count": 15,
   "metadata": {
    "executionInfo": {
     "elapsed": 50429,
     "status": "ok",
     "timestamp": 1619545055237,
     "user": {
      "displayName": "Abhishek Barai",
      "photoUrl": "",
      "userId": "03670053452487652369"
     },
     "user_tz": -330
    },
    "id": "Bza6JJTFNBOu"
   },
   "outputs": [],
   "source": [
    "def loss_plot(train_loss, test_loss, total_epoch):\n",
    "    \"\"\"\n",
    "    This function plots the loss graph of both train and validation dataset.\n",
    "    \"\"\"\n",
    "    fig = plt.figure(figsize=(15,5))  #setting up figure size\n",
    "    plt.plot(train_loss);  plt.plot(test_loss)\n",
    "    #setting up ticks\n",
    "    plt.xticks(range(1,total_epoch))\n",
    "    plt.legend([\"Train_Loss\", \"Validation_Loss\"])\n",
    "    #setting up labels\n",
    "    plt.xlabel(\"Number of Epochs\", fontsize=10)\n",
    "    plt.ylabel(\"Log Loss\", fontsize=10)\n",
    "    plt.title(\"Loss Plot for train and validation dataset\", fontsize=20)\n",
    "    return plt.show()\n",
    "\n",
    "\n",
    "\n",
    "def accuracy_plot(train_accuracy, test_accuracy, total_epoch):\n",
    "    \"\"\"\n",
    "    This function plots the accuracy graph of both train and validation dataset.\n",
    "    \"\"\"\n",
    "    fig = plt.figure(figsize=(15,5))  #setting up figure size\n",
    "    plt.plot(train_accuracy);  plt.plot(test_accuracy)\n",
    "    #setting up ticks\n",
    "    plt.xticks(range(1,total_epoch))\n",
    "    plt.legend([\"Train_Accuracy\", \"Validation_Accuracy\"])\n",
    "    #setting up labels\n",
    "    plt.xlabel(\"Number of Epochs\", fontsize=10)\n",
    "    plt.ylabel(\"Accuracy\", fontsize=10)\n",
    "    plt.title(\"Accuracy Plot for train and validation dataset\", fontsize=20)\n",
    "    return plt.show()\n"
   ]
  },
  {
   "cell_type": "markdown",
   "metadata": {
    "id": "QerBBpYF_Qvb"
   },
   "source": [
    "## 6. custom model two without augmentation"
   ]
  },
  {
   "cell_type": "code",
   "execution_count": 16,
   "metadata": {
    "executionInfo": {
     "elapsed": 48160,
     "status": "ok",
     "timestamp": 1619545055238,
     "user": {
      "displayName": "Abhishek Barai",
      "photoUrl": "",
      "userId": "03670053452487652369"
     },
     "user_tz": -330
    },
    "id": "7fPWBexzKSvW"
   },
   "outputs": [],
   "source": [
    "def custom_model_2(img_rows, img_cols, channel, nb_train_samples, num_classes):\n",
    "    \"\"\"\n",
    "    This is sequential function for convolutional based image classification model.\n",
    "    input:\n",
    "    ------\n",
    "        img_rows           : width of the image\n",
    "        img_cols           : height of the image\n",
    "        channels           : rgb(3), grayscale(1)\n",
    "        nb_train_samples   : number of training samples\n",
    "        num_classes        : number of classes to be trained\n",
    "    output:\n",
    "    -------\n",
    "        model setup\n",
    "    \"\"\"\n",
    "\n",
    "    #creating a sequential model\n",
    "    model= Sequential()\n",
    "    #conv layers\n",
    "    model.add(Conv2D(kernel_size=(3,3), filters=32, activation='tanh', input_shape=(img_rows, img_cols, channel)))\n",
    "    model.add(Conv2D(filters=32, kernel_size = (3,3), activation='tanh', ))  #kernel_regularizer = regularizers.l1_l2(l1=1e-5, l2=1e-4)\n",
    "    model.add(MaxPool2D(2,2))\n",
    "    model.add(Conv2D(filters=32,kernel_size = (3,3),activation='tanh',  ))  #kernel_regularizer = regularizers.l1_l2(l1=1e-5, l2=1e-4)\n",
    "    model.add(MaxPool2D(2,2))\n",
    "    model.add(Conv2D(filters=32,kernel_size = (3,3),activation='tanh', ))  #kernel_regularizer = regularizers.l1_l2(l1=1e-5, l2=1e-4)\n",
    "    model.add(MaxPool2D(2,2))\n",
    "    #flattening the layer\n",
    "    model.add(Flatten())\n",
    "    model.add(Dense(nb_train_samples,activation='relu'))\n",
    "    model.add(Dense(num_classes, activation = 'softmax'))\n",
    "\n",
    "    return model"
   ]
  },
  {
   "cell_type": "markdown",
   "metadata": {
    "id": "bDubME56sVgU"
   },
   "source": [
    "## 7. Compilation and Training"
   ]
  },
  {
   "cell_type": "code",
   "execution_count": 17,
   "metadata": {
    "executionInfo": {
     "elapsed": 46213,
     "status": "ok",
     "timestamp": 1619545055239,
     "user": {
      "displayName": "Abhishek Barai",
      "photoUrl": "",
      "userId": "03670053452487652369"
     },
     "user_tz": -330
    },
    "id": "iIA2-_mVmKOt"
   },
   "outputs": [],
   "source": [
    "epochs= 10\n",
    "nb_train_samples = 1409\n",
    "nb_validation_samples = 353"
   ]
  },
  {
   "cell_type": "code",
   "execution_count": null,
   "metadata": {
    "id": "0D74tDHNKSyM"
   },
   "outputs": [],
   "source": [
    "#function call\n",
    "model = custom_model_2(img_rows, img_cols, channels, nb_train_samples, num_classes)\n",
    "\n",
    "#compilation of model\n",
    "model.compile(loss='categorical_crossentropy', metrics=['accuracy'], optimizer=Adam(0.001))"
   ]
  },
  {
   "cell_type": "code",
   "execution_count": null,
   "metadata": {
    "colab": {
     "base_uri": "https://localhost:8080/"
    },
    "executionInfo": {
     "elapsed": 149697,
     "status": "ok",
     "timestamp": 1619468010352,
     "user": {
      "displayName": "Abhishek Barai",
      "photoUrl": "",
      "userId": "03670053452487652369"
     },
     "user_tz": -330
    },
    "id": "nEtqwEgFzPjK",
    "outputId": "d4a5fead-6b50-49ab-d715-30b3f0423658"
   },
   "outputs": [
    {
     "name": "stdout",
     "output_type": "stream",
     "text": [
      "Epoch 1/10\n",
      "44/44 [==============================] - 17s 332ms/step - loss: 9.0480 - accuracy: 0.3220 - val_loss: 1.3540 - val_accuracy: 0.4631\n",
      "Epoch 2/10\n",
      "44/44 [==============================] - 14s 322ms/step - loss: 1.1598 - accuracy: 0.5812 - val_loss: 1.1885 - val_accuracy: 0.5455\n",
      "Epoch 3/10\n",
      "44/44 [==============================] - 14s 323ms/step - loss: 1.0211 - accuracy: 0.5998 - val_loss: 1.1334 - val_accuracy: 0.5341\n",
      "Epoch 4/10\n",
      "44/44 [==============================] - 14s 319ms/step - loss: 1.0116 - accuracy: 0.6410 - val_loss: 1.2303 - val_accuracy: 0.5284\n",
      "Epoch 5/10\n",
      "44/44 [==============================] - 14s 321ms/step - loss: 1.0480 - accuracy: 0.6038 - val_loss: 1.0234 - val_accuracy: 0.5966\n",
      "Epoch 6/10\n",
      "44/44 [==============================] - 14s 322ms/step - loss: 0.8771 - accuracy: 0.6645 - val_loss: 1.0214 - val_accuracy: 0.6307\n",
      "Epoch 7/10\n",
      "44/44 [==============================] - 14s 319ms/step - loss: 0.7797 - accuracy: 0.7211 - val_loss: 0.9698 - val_accuracy: 0.6477\n",
      "Epoch 8/10\n",
      "44/44 [==============================] - 14s 319ms/step - loss: 0.6496 - accuracy: 0.7794 - val_loss: 0.9451 - val_accuracy: 0.6619\n",
      "Epoch 9/10\n",
      "44/44 [==============================] - 14s 323ms/step - loss: 0.6243 - accuracy: 0.7844 - val_loss: 0.9847 - val_accuracy: 0.6392\n",
      "Epoch 10/10\n",
      "44/44 [==============================] - 14s 322ms/step - loss: 0.5278 - accuracy: 0.8215 - val_loss: 0.9312 - val_accuracy: 0.6932\n"
     ]
    }
   ],
   "source": [
    "# fitting model\n",
    "history = model.fit(train_generator, steps_per_epoch = nb_train_samples//batchsize, epochs=epochs, \n",
    "                    validation_data=valid_generator,\n",
    "                    validation_steps=nb_validation_samples//batchsize,\n",
    "                    callbacks = [reduceLR])"
   ]
  },
  {
   "cell_type": "markdown",
   "metadata": {
    "id": "glNTY7jRBiLu"
   },
   "source": [
    "## 8. Save Model"
   ]
  },
  {
   "cell_type": "code",
   "execution_count": null,
   "metadata": {
    "id": "072fcQ_BJ9ln"
   },
   "outputs": [],
   "source": [
    "model.save('/content/drive/MyDrive/Dermnet/SavedModels/expeiment3.h5')  # creates a HDF5 file "
   ]
  },
  {
   "cell_type": "code",
   "execution_count": null,
   "metadata": {
    "colab": {
     "base_uri": "https://localhost:8080/"
    },
    "executionInfo": {
     "elapsed": 153300,
     "status": "ok",
     "timestamp": 1619468013969,
     "user": {
      "displayName": "Abhishek Barai",
      "photoUrl": "",
      "userId": "03670053452487652369"
     },
     "user_tz": -330
    },
    "id": "7Svr-CTrp7-m",
    "outputId": "c3430d3b-937e-4218-d65e-0eff7644dcd2"
   },
   "outputs": [
    {
     "name": "stdout",
     "output_type": "stream",
     "text": [
      "Model: \"sequential\"\n",
      "_________________________________________________________________\n",
      "Layer (type)                 Output Shape              Param #   \n",
      "=================================================================\n",
      "conv2d (Conv2D)              (None, 254, 254, 32)      896       \n",
      "_________________________________________________________________\n",
      "conv2d_1 (Conv2D)            (None, 252, 252, 32)      9248      \n",
      "_________________________________________________________________\n",
      "max_pooling2d (MaxPooling2D) (None, 126, 126, 32)      0         \n",
      "_________________________________________________________________\n",
      "conv2d_2 (Conv2D)            (None, 124, 124, 32)      9248      \n",
      "_________________________________________________________________\n",
      "max_pooling2d_1 (MaxPooling2 (None, 62, 62, 32)        0         \n",
      "_________________________________________________________________\n",
      "conv2d_3 (Conv2D)            (None, 60, 60, 32)        9248      \n",
      "_________________________________________________________________\n",
      "max_pooling2d_2 (MaxPooling2 (None, 30, 30, 32)        0         \n",
      "_________________________________________________________________\n",
      "flatten (Flatten)            (None, 28800)             0         \n",
      "_________________________________________________________________\n",
      "dense (Dense)                (None, 1409)              40580609  \n",
      "_________________________________________________________________\n",
      "dense_1 (Dense)              (None, 5)                 7050      \n",
      "=================================================================\n",
      "Total params: 40,616,299\n",
      "Trainable params: 40,616,299\n",
      "Non-trainable params: 0\n",
      "_________________________________________________________________\n",
      "None\n"
     ]
    }
   ],
   "source": [
    "print(model.summary())"
   ]
  },
  {
   "cell_type": "code",
   "execution_count": null,
   "metadata": {
    "colab": {
     "base_uri": "https://localhost:8080/",
     "height": 1000
    },
    "executionInfo": {
     "elapsed": 153289,
     "status": "ok",
     "timestamp": 1619468013970,
     "user": {
      "displayName": "Abhishek Barai",
      "photoUrl": "",
      "userId": "03670053452487652369"
     },
     "user_tz": -330
    },
    "id": "hkK3Nw5rp8af",
    "outputId": "2b6e72ab-fa35-4cea-ad7e-bf5c41bc4070"
   },
   "outputs": [
    {
     "data": {
      "image/jpeg": "[encoded data removed]",
      "text/plain": [
       "<IPython.core.display.Image object>"
      ]
     },
     "execution_count": 22,
     "metadata": {
      "tags": []
     },
     "output_type": "execute_result"
    }
   ],
   "source": [
    "tf.keras.utils.plot_model(model, to_file=\"experiment3.jpg\", show_shapes=True)"
   ]
  },
  {
   "cell_type": "markdown",
   "metadata": {
    "id": "JaYPtN0jnAtv"
   },
   "source": [
    "## 9. Loss and Accuracy Plot"
   ]
  },
  {
   "cell_type": "code",
   "execution_count": null,
   "metadata": {
    "colab": {
     "base_uri": "https://localhost:8080/",
     "height": 354
    },
    "executionInfo": {
     "elapsed": 1505,
     "status": "ok",
     "timestamp": 1619468166960,
     "user": {
      "displayName": "Abhishek Barai",
      "photoUrl": "",
      "userId": "03670053452487652369"
     },
     "user_tz": -330
    },
    "id": "PmpKqqtknAAu",
    "outputId": "10939eab-5521-4094-e528-fba06d9e3936"
   },
   "outputs": [
    {
     "data": {
      "image/png": "[encoded data removed]",
      "text/plain": [
       "<Figure size 1080x360 with 1 Axes>"
      ]
     },
     "metadata": {
      "needs_background": "light",
      "tags": []
     },
     "output_type": "display_data"
    }
   ],
   "source": [
    "loss_plot(history.history[\"loss\"], history.history[\"val_loss\"], 10)"
   ]
  },
  {
   "cell_type": "code",
   "execution_count": null,
   "metadata": {
    "colab": {
     "base_uri": "https://localhost:8080/",
     "height": 354
    },
    "executionInfo": {
     "elapsed": 1160,
     "status": "ok",
     "timestamp": 1619468167900,
     "user": {
      "displayName": "Abhishek Barai",
      "photoUrl": "",
      "userId": "03670053452487652369"
     },
     "user_tz": -330
    },
    "id": "xBOHln4BnADi",
    "outputId": "da56131f-27fd-4999-f07b-1b68a1b4b37e"
   },
   "outputs": [
    {
     "data": {
      "image/png": "[encoded data removed]",
      "text/plain": [
       "<Figure size 1080x360 with 1 Axes>"
      ]
     },
     "metadata": {
      "needs_background": "light",
      "tags": []
     },
     "output_type": "display_data"
    }
   ],
   "source": [
    "accuracy_plot(history.history[\"accuracy\"], history.history[\"val_accuracy\"], 10)"
   ]
  },
  {
   "cell_type": "markdown",
   "metadata": {
    "id": "yhoofjsjnM5B"
   },
   "source": [
    "## 11.Prediction"
   ]
  },
  {
   "cell_type": "code",
   "execution_count": 18,
   "metadata": {
    "executionInfo": {
     "elapsed": 17157,
     "status": "ok",
     "timestamp": 1619545079917,
     "user": {
      "displayName": "Abhishek Barai",
      "photoUrl": "",
      "userId": "03670053452487652369"
     },
     "user_tz": -330
    },
    "id": "ukBi4yMsZ-GG"
   },
   "outputs": [],
   "source": [
    "model = tf.keras.models.load_model('/content/drive/MyDrive/Dermnet/SavedModels/expeiment3.h5')"
   ]
  },
  {
   "cell_type": "code",
   "execution_count": 19,
   "metadata": {
    "colab": {
     "base_uri": "https://localhost:8080/"
    },
    "executionInfo": {
     "elapsed": 244202,
     "status": "ok",
     "timestamp": 1619545339595,
     "user": {
      "displayName": "Abhishek Barai",
      "photoUrl": "",
      "userId": "03670053452487652369"
     },
     "user_tz": -330
    },
    "id": "shR5e_1InAGu",
    "outputId": "bb7cc105-2993-4c15-930d-b7796c87f274"
   },
   "outputs": [
    {
     "name": "stdout",
     "output_type": "stream",
     "text": [
      "Found 510 validated image filenames.\n"
     ]
    }
   ],
   "source": [
    "#Validation Generator\n",
    "test_generator = datagen.flow_from_dataframe(dataframe = merged_test_df, \n",
    "                                            directory=\"/content/drive/MyDrive/Dermnet/Images/test/\", \n",
    "                                            x_col=\"path\", \n",
    "                                            y_col=None, \n",
    "                                            class_mode=None,\n",
    "                                            subset=None,\n",
    "                                            shuffle=False,\n",
    "                                            target_size=(img_rows, img_cols),\n",
    "                                            batch_size = batchsize,\n",
    "                                            color_mode='rgb')\n",
    "\n",
    "#predicting all values\n",
    "output_scores = model.predict_generator(test_generator)"
   ]
  },
  {
   "cell_type": "markdown",
   "metadata": {
    "id": "6VyHaIwnnzOR"
   },
   "source": [
    "## 12. Evaluation Metric"
   ]
  },
  {
   "cell_type": "code",
   "execution_count": 20,
   "metadata": {
    "executionInfo": {
     "elapsed": 1311,
     "status": "ok",
     "timestamp": 1619545345550,
     "user": {
      "displayName": "Abhishek Barai",
      "photoUrl": "",
      "userId": "03670053452487652369"
     },
     "user_tz": -330
    },
    "id": "BQJlMc7TaxDN"
   },
   "outputs": [],
   "source": [
    "from sklearn.metrics import accuracy_score, precision_score, recall_score, f1_score"
   ]
  },
  {
   "cell_type": "code",
   "execution_count": 28,
   "metadata": {
    "colab": {
     "base_uri": "https://localhost:8080/"
    },
    "executionInfo": {
     "elapsed": 1214,
     "status": "ok",
     "timestamp": 1619545441382,
     "user": {
      "displayName": "Abhishek Barai",
      "photoUrl": "",
      "userId": "03670053452487652369"
     },
     "user_tz": -330
    },
    "id": "RQ3MYELkbjPm",
    "outputId": "916cdb7e-f844-4223-f6b5-8faa9d985927"
   },
   "outputs": [
    {
     "name": "stdout",
     "output_type": "stream",
     "text": [
      "              precision    recall  f1-score   support\n",
      "\n",
      "           0       0.62      0.67      0.65        46\n",
      "           1       0.48      0.62      0.54        86\n",
      "           2       0.70      0.67      0.68       115\n",
      "           3       0.85      0.84      0.85       210\n",
      "           4       0.65      0.42      0.51        53\n",
      "\n",
      "    accuracy                           0.70       510\n",
      "   macro avg       0.66      0.64      0.64       510\n",
      "weighted avg       0.71      0.70      0.70       510\n",
      "\n"
     ]
    }
   ],
   "source": [
    "#getting output scores\n",
    "class_outputs = [max(enumerate(val), key=operator.itemgetter(1)) for val in output_scores]\n",
    "#getting prediction values\n",
    "y_pred = [val[0] for val in class_outputs]\n",
    "\n",
    "\n",
    "#getting confusion metrix\n",
    "conf_matrix = confusion_matrix(y_true, y_pred)\n",
    "\n",
    "\n",
    "#getting classification report \n",
    "print(classification_report(y_true, y_pred))"
   ]
  },
  {
   "cell_type": "code",
   "execution_count": 30,
   "metadata": {
    "colab": {
     "base_uri": "https://localhost:8080/",
     "height": 360
    },
    "executionInfo": {
     "elapsed": 1752,
     "status": "ok",
     "timestamp": 1619545454866,
     "user": {
      "displayName": "Abhishek Barai",
      "photoUrl": "",
      "userId": "03670053452487652369"
     },
     "user_tz": -330
    },
    "id": "XHN0-PSAnAJa",
    "outputId": "3d28eac2-a072-41fc-ab07-522a9c0ad40a"
   },
   "outputs": [
    {
     "data": {
      "image/png": "[encoded data removed]",
      "text/plain": [
       "<Figure size 360x360 with 2 Axes>"
      ]
     },
     "metadata": {
      "needs_background": "light",
      "tags": []
     },
     "output_type": "display_data"
    }
   ],
   "source": [
    "fig = plt.figure(figsize=(5,5))\n",
    "plot = sns.heatmap(conf_matrix, annot=True, cmap =\"Blues\", fmt=\"d\")\n",
    "plt.xlabel(\"Predicted Class\", fontsize=15)\n",
    "plt.ylabel(\"Actual Class\", fontsize=15)\n",
    "plt.title(\"Confusion Matrix\", fontsize=20)\n",
    "plt.show()"
   ]
  },
  {
   "cell_type": "code",
   "execution_count": 27,
   "metadata": {
    "colab": {
     "base_uri": "https://localhost:8080/"
    },
    "executionInfo": {
     "elapsed": 675,
     "status": "ok",
     "timestamp": 1619545406303,
     "user": {
      "displayName": "Abhishek Barai",
      "photoUrl": "",
      "userId": "03670053452487652369"
     },
     "user_tz": -330
    },
    "id": "0Qok7y-ibWhA",
    "outputId": "b13326b4-4902-40fd-ef0a-626744459da2"
   },
   "outputs": [
    {
     "name": "stdout",
     "output_type": "stream",
     "text": [
      "Accuracy Score        0.7039.\n",
      "Overall f1 score      0.7039.\n",
      "Overall Precision     0.7039.\n",
      "Overall Recall        0.7039.\n"
     ]
    }
   ],
   "source": [
    "## accuracy scores\n",
    "print(\"Accuracy Score        {:.4f}.\".format(accuracy_score(y_true,y_pred)))\n",
    "print(\"Overall f1 score      {:.4f}.\".format(f1_score(y_true, y_pred, average='micro')))\n",
    "print(\"Overall Precision     {:.4f}.\".format(precision_score(y_true, y_pred, average='micro')))\n",
    "print(\"Overall Recall        {:.4f}.\".format(recall_score(y_true, y_pred, average='micro')))"
   ]
  }
 ],
 "metadata": {
  "accelerator": "GPU",
  "colab": {
   "collapsed_sections": [
    "RlCR1vzx9m9a",
    "x9Fz0c7Q9rwl",
    "vPDCt2gk9uMu",
    "mm3lWJhMx2Pi",
    "aIiVAMz_9zon",
    "at6cS6e8-Eeu",
    "QerBBpYF_Qvb",
    "glNTY7jRBiLu",
    "JaYPtN0jnAtv"
   ],
   "machine_shape": "hm",
   "name": "exp_3_custom_model_2_without_augmentation.ipynb",
   "provenance": [],
   "toc_visible": true
  },
  "kernelspec": {
   "display_name": "Python 3",
   "language": "python",
   "name": "python3"
  },
  "language_info": {
   "codemirror_mode": {
    "name": "ipython",
    "version": 3
   },
   "file_extension": ".py",
   "mimetype": "text/x-python",
   "name": "python",
   "nbconvert_exporter": "python",
   "pygments_lexer": "ipython3",
   "version": "3.8.5"
  }
 },
 "nbformat": 4,
 "nbformat_minor": 1
}

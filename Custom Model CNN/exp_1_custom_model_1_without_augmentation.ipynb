{
 "cells": [
  {
   "cell_type": "markdown",
   "metadata": {
    "id": "JXv6fbOgbCEf"
   },
   "source": [
    "# custom model one - without augmentation"
   ]
  },
  {
   "cell_type": "markdown",
   "metadata": {
    "id": "tqSZ4lSZs_bs"
   },
   "source": [
    "\n",
    "\n",
    "## Context\n",
    "The data consists of images of 23 types of skin diseases taken from http://www.dermnet.com/dermatology-pictures-skin-disease-pictures. The total number of images are around 19,500, out of which approximately 15,500 have been split in the training set and the remaining in the test set."
   ]
  },
  {
   "cell_type": "code",
   "execution_count": 3,
   "metadata": {
    "colab": {
     "base_uri": "https://localhost:8080/"
    },
    "executionInfo": {
     "elapsed": 18082,
     "status": "ok",
     "timestamp": 1619464138484,
     "user": {
      "displayName": "Abhishek Barai",
      "photoUrl": "",
      "userId": "03670053452487652369"
     },
     "user_tz": -330
    },
    "id": "K91eMG8j6lEH",
    "outputId": "ebee50a8-8937-4c6f-8b6d-b97e87bc84d2"
   },
   "outputs": [
    {
     "name": "stdout",
     "output_type": "stream",
     "text": [
      "Mounted at /content/drive\n"
     ]
    }
   ],
   "source": [
    "from google.colab import drive\n",
    "drive.mount('/content/drive')"
   ]
  },
  {
   "cell_type": "markdown",
   "metadata": {
    "id": "RlCR1vzx9m9a"
   },
   "source": [
    "## 1. Import Libraries"
   ]
  },
  {
   "cell_type": "code",
   "execution_count": 1,
   "metadata": {
    "executionInfo": {
     "elapsed": 3270,
     "status": "ok",
     "timestamp": 1619464441709,
     "user": {
      "displayName": "Abhishek Barai",
      "photoUrl": "",
      "userId": "03670053452487652369"
     },
     "user_tz": -330
    },
    "id": "CW-bpoj5fomI"
   },
   "outputs": [],
   "source": [
    "import datetime\n",
    "import operator\n",
    "##open cv\n",
    "import cv2\n",
    "from google.colab.patches import cv2_imshow\n",
    "import random\n",
    "#numpy-pandas\n",
    "import numpy as np\n",
    "import pandas as pd\n",
    "from sklearn.model_selection import train_test_split\n",
    "#visualization\n",
    "import seaborn as sns\n",
    "import matplotlib.pyplot as plt\n",
    "\n",
    "#tensorflow and utilities\n",
    "import tensorflow as tf\n",
    "from tensorflow.keras.utils import plot_model\n",
    "from tensorflow.keras.backend import clear_session\n",
    "from tensorflow.keras.preprocessing.image import ImageDataGenerator, load_img, img_to_array\n",
    "from tensorflow.keras import regularizers\n",
    "\n",
    "#tensorflow model, layers, optimizers etc\n",
    "from tensorflow.keras import Input \n",
    "from tensorflow.keras.models import Sequential, Model\n",
    "from tensorflow.keras.optimizers import RMSprop,SGD,Adam\n",
    "from tensorflow.keras.layers import Conv2D, MaxPool2D, Dense, Flatten, Dropout, Activation, BatchNormalization\n",
    "from tensorflow.keras.layers import MaxPooling2D, concatenate, AveragePooling2D, GlobalAveragePooling2D\n",
    "\n",
    "#callbacks\n",
    "from tensorflow.keras.callbacks import BaseLogger, CSVLogger, EarlyStopping, ModelCheckpoint\n",
    "from tensorflow.keras.callbacks import LearningRateScheduler, TensorBoard, ReduceLROnPlateau\n",
    "\n",
    "#pretrained models\n",
    "from keras.applications.resnet50 import ResNet50\n",
    "from tensorflow.keras.applications.vgg16 import VGG16\n",
    "from tensorflow.keras.applications.vgg16 import  preprocess_input\n",
    "from tensorflow.keras.applications.resnet import  preprocess_input\n",
    "\n",
    "import warnings\n",
    "warnings.filterwarnings(\"ignore\")\n",
    "\n",
    "from sklearn.metrics import classification_report, confusion_matrix, plot_confusion_matrix"
   ]
  },
  {
   "cell_type": "markdown",
   "metadata": {
    "id": "x9Fz0c7Q9rwl"
   },
   "source": [
    "## 2. Import Data"
   ]
  },
  {
   "cell_type": "code",
   "execution_count": 2,
   "metadata": {
    "executionInfo": {
     "elapsed": 3266,
     "status": "ok",
     "timestamp": 1619464441715,
     "user": {
      "displayName": "Abhishek Barai",
      "photoUrl": "",
      "userId": "03670053452487652369"
     },
     "user_tz": -330
    },
    "id": "ktKw8GZ9hTAe"
   },
   "outputs": [],
   "source": [
    "#getting dataframes of train and test data\n",
    "train_df = pd.read_csv(\"/content/drive/MyDrive/Dermnet/Files/final_dataframe/final_train_df.csv\")\n",
    "test_df = pd.read_csv(\"/content/drive/MyDrive/Dermnet/Files/final_dataframe/final_test_df.csv\")"
   ]
  },
  {
   "cell_type": "code",
   "execution_count": 3,
   "metadata": {
    "colab": {
     "base_uri": "https://localhost:8080/"
    },
    "executionInfo": {
     "elapsed": 3256,
     "status": "ok",
     "timestamp": 1619464441715,
     "user": {
      "displayName": "Abhishek Barai",
      "photoUrl": "",
      "userId": "03670053452487652369"
     },
     "user_tz": -330
    },
    "id": "h2JaB5oQjCwt",
    "outputId": "924aed0c-afb0-4f7a-a3c5-16ef47ab93ec"
   },
   "outputs": [
    {
     "name": "stdout",
     "output_type": "stream",
     "text": [
      "Shape of train dataset is (14523, 4).\n",
      "Shape of test dataset is (3527, 4).\n"
     ]
    }
   ],
   "source": [
    "train_df[\"path\"] = train_df[\"class\"] + \"/\" + train_df[\"image_name\"]\n",
    "test_df[\"path\"] = test_df[\"class\"] + \"/\" + test_df[\"image_name\"]\n",
    "\n",
    "print(\"Shape of train dataset is {}.\".format(train_df.shape))\n",
    "print(\"Shape of test dataset is {}.\".format(test_df.shape))"
   ]
  },
  {
   "cell_type": "code",
   "execution_count": 4,
   "metadata": {
    "colab": {
     "base_uri": "https://localhost:8080/"
    },
    "executionInfo": {
     "elapsed": 3249,
     "status": "ok",
     "timestamp": 1619464441716,
     "user": {
      "displayName": "Abhishek Barai",
      "photoUrl": "",
      "userId": "03670053452487652369"
     },
     "user_tz": -330
    },
    "id": "FtJKFxd0mDwa",
    "outputId": "036f0e8e-4678-47db-b8d2-625c2b3b45cb"
   },
   "outputs": [
    {
     "data": {
      "text/plain": [
       "Seborrheic Keratoses and other Benign Tumors                          1350\n",
       "Psoriasis pictures Lichen Planus and related diseases                 1297\n",
       "Eczema Photos                                                         1222\n",
       "Tinea Ringworm Candidiasis and other Fungal Infections                1218\n",
       "Actinic Keratosis Basal Cell Carcinoma and other Malignant Lesions    1118\n",
       "Warts Molluscum and other Viral Infections                             985\n",
       "Nail Fungus and other Nail Disease                                     855\n",
       "Systemic Disease                                                       568\n",
       "Acne and Rosacea Photos                                                561\n",
       "Light Diseases and Disorders of Pigmentation                           546\n",
       "Atopic Dermatitis Photos                                               485\n",
       "Vascular Tumors                                                        482\n",
       "Melanoma Skin Cancer Nevi and Moles                                    456\n",
       "Bullous Disease Photos                                                 440\n",
       "Lupus and other Connective Tissue diseases                             415\n",
       "Vasculitis Photos                                                      405\n",
       "Exanthems and Drug Eruptions                                           397\n",
       "Scabies Lyme Disease and other Infestations and Bites                  383\n",
       "Herpes HPV and other STDs Photos                                       382\n",
       "Cellulitis Impetigo and other Bacterial Infections                     284\n",
       "Poison Ivy Photos and other Contact Dermatitis                         250\n",
       "Urticaria Hives                                                        212\n",
       "Hair Loss Photos Alopecia and other Hair Diseases                      212\n",
       "Name: class, dtype: int64"
      ]
     },
     "execution_count": 4,
     "metadata": {
      "tags": []
     },
     "output_type": "execute_result"
    }
   ],
   "source": [
    "train_df[\"class\"].value_counts()"
   ]
  },
  {
   "cell_type": "code",
   "execution_count": 5,
   "metadata": {
    "colab": {
     "base_uri": "https://localhost:8080/"
    },
    "executionInfo": {
     "elapsed": 3241,
     "status": "ok",
     "timestamp": 1619464441716,
     "user": {
      "displayName": "Abhishek Barai",
      "photoUrl": "",
      "userId": "03670053452487652369"
     },
     "user_tz": -330
    },
    "id": "DBBsC2j_nzFN",
    "outputId": "ca7a9fdf-8f91-4f5a-93b0-b354bbdd75dc"
   },
   "outputs": [
    {
     "data": {
      "text/plain": [
       "Psoriasis pictures Lichen Planus and related diseases                 339\n",
       "Seborrheic Keratoses and other Benign Tumors                          339\n",
       "Tinea Ringworm Candidiasis and other Fungal Infections                309\n",
       "Eczema Photos                                                         300\n",
       "Actinic Keratosis Basal Cell Carcinoma and other Malignant Lesions    283\n",
       "Warts Molluscum and other Viral Infections                            247\n",
       "Nail Fungus and other Nail Disease                                    210\n",
       "Systemic Disease                                                      143\n",
       "Light Diseases and Disorders of Pigmentation                          137\n",
       "Vascular Tumors                                                       121\n",
       "Atopic Dermatitis Photos                                              120\n",
       "Melanoma Skin Cancer Nevi and Moles                                   115\n",
       "Bullous Disease Photos                                                113\n",
       "Vasculitis Photos                                                     104\n",
       "Exanthems and Drug Eruptions                                          100\n",
       "Lupus and other Connective Tissue diseases                            100\n",
       "Scabies Lyme Disease and other Infestations and Bites                  92\n",
       "Herpes HPV and other STDs Photos                                       86\n",
       "Cellulitis Impetigo and other Bacterial Infections                     70\n",
       "Poison Ivy Photos and other Contact Dermatitis                         59\n",
       "Urticaria Hives                                                        53\n",
       "Hair Loss Photos Alopecia and other Hair Diseases                      46\n",
       "Acne and Rosacea Photos                                                41\n",
       "Name: class, dtype: int64"
      ]
     },
     "execution_count": 5,
     "metadata": {
      "tags": []
     },
     "output_type": "execute_result"
    }
   ],
   "source": [
    "test_df[\"class\"].value_counts()"
   ]
  },
  {
   "cell_type": "markdown",
   "metadata": {
    "id": "vPDCt2gk9uMu"
   },
   "source": [
    "## 3. Class Selection\n",
    "\n",
    "* The classes selected below are based on the distinctive nature of them. Classes are:\n",
    "    * Hair Loss Photos Alopecia and other Hair Diseases\n",
    "    * Herpes HPV and other STDs Photos\n",
    "    * Melanoma Skin Cancer Nevi and Moles\n",
    "    * Nail Fungus and other Nail Disease\n",
    "    * Urticaria Hives"
   ]
  },
  {
   "cell_type": "code",
   "execution_count": 6,
   "metadata": {
    "colab": {
     "base_uri": "https://localhost:8080/"
    },
    "executionInfo": {
     "elapsed": 3233,
     "status": "ok",
     "timestamp": 1619464441717,
     "user": {
      "displayName": "Abhishek Barai",
      "photoUrl": "",
      "userId": "03670053452487652369"
     },
     "user_tz": -330
    },
    "id": "mxjIA5fSlG5O",
    "outputId": "19e8e69e-22b5-403c-bc5f-3184b097b3d3"
   },
   "outputs": [
    {
     "data": {
      "text/plain": [
       "Nail Fungus and other Nail Disease                   500\n",
       "Melanoma Skin Cancer Nevi and Moles                  456\n",
       "Herpes HPV and other STDs Photos                     382\n",
       "Urticaria Hives                                      212\n",
       "Hair Loss Photos Alopecia and other Hair Diseases    212\n",
       "Name: class, dtype: int64"
      ]
     },
     "execution_count": 6,
     "metadata": {
      "tags": []
     },
     "output_type": "execute_result"
    }
   ],
   "source": [
    "class_to_keep = [\"Herpes HPV and other STDs Photos\", \"Melanoma Skin Cancer Nevi and Moles\", \"Hair Loss Photos Alopecia and other Hair Diseases\", \"Urticaria Hives\"]\n",
    "train_df_m1 = train_df[train_df[\"class\"].isin(class_to_keep)]\n",
    "test_df_m1 = test_df[test_df[\"class\"].isin(class_to_keep)]\n",
    "\n",
    "#getting only 500 images of nail fungus\n",
    "train_df_m2 = train_df[train_df[\"class\"] == \"Nail Fungus and other Nail Disease\"].iloc[0:500,:]\n",
    "test_df_m2 = test_df[test_df[\"class\"] == \"Nail Fungus and other Nail Disease\"].iloc[0:500,:]\n",
    "\n",
    "merged_train_df = pd.concat([train_df_m1, train_df_m2])\n",
    "merged_test_df = pd.concat([test_df_m1, test_df_m2])\n",
    "\n",
    "#getting the values counts\n",
    "merged_train_df[\"class\"].value_counts()"
   ]
  },
  {
   "cell_type": "markdown",
   "metadata": {
    "id": "mm3lWJhMx2Pi"
   },
   "source": [
    "### 3.1 train-test split"
   ]
  },
  {
   "cell_type": "code",
   "execution_count": 7,
   "metadata": {
    "colab": {
     "base_uri": "https://localhost:8080/"
    },
    "executionInfo": {
     "elapsed": 3223,
     "status": "ok",
     "timestamp": 1619464441717,
     "user": {
      "displayName": "Abhishek Barai",
      "photoUrl": "",
      "userId": "03670053452487652369"
     },
     "user_tz": -330
    },
    "id": "gHzgws6Gx1r3",
    "outputId": "9982a1cb-f097-4b90-eb43-089d3fae53c2"
   },
   "outputs": [
    {
     "name": "stdout",
     "output_type": "stream",
     "text": [
      "Shape of train : (1409, 4).\n",
      "Shape of test : (353, 4).\n"
     ]
    }
   ],
   "source": [
    "train_df_final, validation_df_final = train_test_split(merged_train_df, test_size=0.20)\n",
    "print(\"Shape of train : {}.\".format(train_df_final.shape))\n",
    "print(\"Shape of test : {}.\".format(validation_df_final.shape))"
   ]
  },
  {
   "cell_type": "code",
   "execution_count": 8,
   "metadata": {
    "executionInfo": {
     "elapsed": 3214,
     "status": "ok",
     "timestamp": 1619464441717,
     "user": {
      "displayName": "Abhishek Barai",
      "photoUrl": "",
      "userId": "03670053452487652369"
     },
     "user_tz": -330
    },
    "id": "QkeLmKoCsVc9"
   },
   "outputs": [],
   "source": [
    "merged_test_df[\"class_cat\"] = merged_test_df[\"class\"].astype('category').cat.codes\n",
    "y_true = merged_test_df[\"class_cat\"].values"
   ]
  },
  {
   "cell_type": "markdown",
   "metadata": {
    "id": "aIiVAMz_9zon"
   },
   "source": [
    "## 4. Image Pipeline"
   ]
  },
  {
   "cell_type": "code",
   "execution_count": 9,
   "metadata": {
    "executionInfo": {
     "elapsed": 3068,
     "status": "ok",
     "timestamp": 1619464441718,
     "user": {
      "displayName": "Abhishek Barai",
      "photoUrl": "",
      "userId": "03670053452487652369"
     },
     "user_tz": -330
    },
    "id": "BsKLNKcK99cj"
   },
   "outputs": [],
   "source": [
    "channels = 3\n",
    "batchsize = 32\n",
    "num_classes = 5\n",
    "img_rows = 256; img_cols = 256 \n",
    "\n",
    "# creating a pipeline for image augmentation using imagedatagenerator\n",
    "datagen = ImageDataGenerator(rescale=1./255,)"
   ]
  },
  {
   "cell_type": "code",
   "execution_count": 10,
   "metadata": {
    "colab": {
     "base_uri": "https://localhost:8080/"
    },
    "executionInfo": {
     "elapsed": 3060,
     "status": "ok",
     "timestamp": 1619464441718,
     "user": {
      "displayName": "Abhishek Barai",
      "photoUrl": "",
      "userId": "03670053452487652369"
     },
     "user_tz": -330
    },
    "id": "wUZh5FcIiXpz",
    "outputId": "f223a585-459c-45ae-c23e-cf949cfb6663"
   },
   "outputs": [
    {
     "name": "stdout",
     "output_type": "stream",
     "text": [
      "Found 1409 validated image filenames belonging to 5 classes.\n"
     ]
    }
   ],
   "source": [
    "#Train Generator\n",
    "train_generator=datagen.flow_from_dataframe(dataframe = train_df_final, \n",
    "                                            directory=\"/content/drive/MyDrive/Dermnet/Images/train/\", \n",
    "                                            x_col=\"path\", \n",
    "                                            y_col=\"class\", \n",
    "                                            class_mode=\"categorical\",\n",
    "                                            subset=\"training\",\n",
    "                                            shuffle=True,\n",
    "                                            target_size=(img_rows, img_cols),\n",
    "                                            batch_size = batchsize,\n",
    "                                            color_mode='rgb',\n",
    "                                            seed=42)"
   ]
  },
  {
   "cell_type": "code",
   "execution_count": 11,
   "metadata": {
    "colab": {
     "base_uri": "https://localhost:8080/"
    },
    "executionInfo": {
     "elapsed": 3809,
     "status": "ok",
     "timestamp": 1619464442474,
     "user": {
      "displayName": "Abhishek Barai",
      "photoUrl": "",
      "userId": "03670053452487652369"
     },
     "user_tz": -330
    },
    "id": "da5H5ot0jeuy",
    "outputId": "c4860fdf-ffcb-42d8-996d-e86d04bfefe3"
   },
   "outputs": [
    {
     "name": "stdout",
     "output_type": "stream",
     "text": [
      "Found 353 validated image filenames belonging to 5 classes.\n"
     ]
    }
   ],
   "source": [
    "#Validation Generator\n",
    "valid_generator=datagen.flow_from_dataframe(dataframe = validation_df_final, \n",
    "                                            directory=\"/content/drive/MyDrive/Dermnet/Images/train/\", \n",
    "                                            x_col=\"path\", \n",
    "                                            y_col=\"class\", \n",
    "                                            class_mode=\"categorical\",\n",
    "                                            subset=\"training\",\n",
    "                                            shuffle=True,\n",
    "                                            target_size=(img_rows, img_cols),\n",
    "                                            batch_size = batchsize,\n",
    "                                            color_mode='rgb',\n",
    "                                            seed=42)"
   ]
  },
  {
   "cell_type": "markdown",
   "metadata": {
    "id": "at6cS6e8-Eeu"
   },
   "source": [
    "## 5. Callbacks and functions"
   ]
  },
  {
   "cell_type": "code",
   "execution_count": 12,
   "metadata": {
    "executionInfo": {
     "elapsed": 2417,
     "status": "ok",
     "timestamp": 1619464442475,
     "user": {
      "displayName": "Abhishek Barai",
      "photoUrl": "",
      "userId": "03670053452487652369"
     },
     "user_tz": -330
    },
    "id": "xoHacz3Z-9WB"
   },
   "outputs": [],
   "source": [
    "#Loading TensorBoard\n",
    "%load_ext tensorboard\n",
    "\n",
    "# Clear any logs from previous runs\n",
    "!rm -rf ./logs/ "
   ]
  },
  {
   "cell_type": "code",
   "execution_count": 13,
   "metadata": {
    "executionInfo": {
     "elapsed": 2410,
     "status": "ok",
     "timestamp": 1619464442476,
     "user": {
      "displayName": "Abhishek Barai",
      "photoUrl": "",
      "userId": "03670053452487652369"
     },
     "user_tz": -330
    },
    "id": "E8dNzxc2-RmS"
   },
   "outputs": [],
   "source": [
    "earlyStopping = EarlyStopping(monitor='val_loss',\n",
    "                              min_delta=0,\n",
    "                              patience=3,\n",
    "                              verbose=0,\n",
    "                              mode='min',\n",
    "                              baseline=None,\n",
    "                              restore_best_weights=True) \n",
    "\n",
    "\n",
    "#rensorboard\n",
    "log_dir = \"/content/drive/MyDrive/Dermnet/callbacks/tensorboard/\" + datetime.datetime.now().strftime(\"%Y%m%d-%H%M%S\")\n",
    "board = TensorBoard(log_dir = log_dir,\n",
    "                    histogram_freq=1,\n",
    "                    write_graph=True,\n",
    "                    write_grads=False)\n",
    "\n",
    "#reduce learning rate\n",
    "reduceLR = ReduceLROnPlateau(monitor='val_loss',\n",
    "                             factor=0.2,\n",
    "                             patience=3,\n",
    "                             min_lr=0.001)"
   ]
  },
  {
   "cell_type": "code",
   "execution_count": 14,
   "metadata": {
    "executionInfo": {
     "elapsed": 2402,
     "status": "ok",
     "timestamp": 1619464442477,
     "user": {
      "displayName": "Abhishek Barai",
      "photoUrl": "",
      "userId": "03670053452487652369"
     },
     "user_tz": -330
    },
    "id": "Bza6JJTFNBOu"
   },
   "outputs": [],
   "source": [
    "def loss_plot(train_loss, test_loss, total_epoch):\n",
    "    \"\"\"\n",
    "    This function plots the loss graph of both train and validation dataset.\n",
    "    \"\"\"\n",
    "    fig = plt.figure(figsize=(15,5))  #setting up figure size\n",
    "    plt.plot(train_loss);  plt.plot(test_loss)\n",
    "    #setting up ticks\n",
    "    plt.xticks(range(1,total_epoch))\n",
    "    plt.legend([\"Train_Loss\", \"Validation_Loss\"])\n",
    "    #setting up labels\n",
    "    plt.xlabel(\"Number of Epochs\", fontsize=10)\n",
    "    plt.ylabel(\"Log Loss\", fontsize=10)\n",
    "    plt.title(\"Loss Plot for train and validation dataset\", fontsize=20)\n",
    "    return plt.show()\n",
    "\n",
    "\n",
    "\n",
    "def accuracy_plot(train_accuracy, test_accuracy, total_epoch):\n",
    "    \"\"\"\n",
    "    This function plots the accuracy graph of both train and validation dataset.\n",
    "    \"\"\"\n",
    "    fig = plt.figure(figsize=(15,5))  #setting up figure size\n",
    "    plt.plot(train_accuracy);  plt.plot(test_accuracy)\n",
    "    #setting up ticks\n",
    "    plt.xticks(range(1,total_epoch))\n",
    "    plt.legend([\"Train_Accuracy\", \"Validation_Accuracy\"])\n",
    "    #setting up labels\n",
    "    plt.xlabel(\"Number of Epochs\", fontsize=10)\n",
    "    plt.ylabel(\"Accuracy\", fontsize=10)\n",
    "    plt.title(\"Accuracy Plot for train and validation dataset\", fontsize=20)\n",
    "    return plt.show()\n"
   ]
  },
  {
   "cell_type": "markdown",
   "metadata": {
    "id": "QerBBpYF_Qvb"
   },
   "source": [
    "## 6. Custom Model one without Augmentation"
   ]
  },
  {
   "cell_type": "code",
   "execution_count": 15,
   "metadata": {
    "executionInfo": {
     "elapsed": 1290,
     "status": "ok",
     "timestamp": 1619464449396,
     "user": {
      "displayName": "Abhishek Barai",
      "photoUrl": "",
      "userId": "03670053452487652369"
     },
     "user_tz": -330
    },
    "id": "7fPWBexzKSvW"
   },
   "outputs": [],
   "source": [
    "def create_model(img_rows, img_cols, channels, nb_train_samples, num_classes):\n",
    "    \"\"\"\n",
    "    This function use 2 convolutional layers with below configuration to train the model.\n",
    "        Padding = valid; Stride = (1,1); kernel = (3,3)\n",
    "    input:\n",
    "    ------\n",
    "        img_rows           : width of the image\n",
    "        img_cols           : height of the image\n",
    "        channels           : rgb(3), grayscale(1)\n",
    "        nb_train_samples   : number of training samples\n",
    "        num_classes        : number of classes to be trained\n",
    "    output:\n",
    "    -------\n",
    "        model setup\n",
    "    \"\"\"\n",
    "    clear_session()\n",
    "    #creating sequential model\n",
    "    model = Sequential()\n",
    "    #adding conv layer with relu activation\n",
    "    model.add(Conv2D(32,(3,3), input_shape=(img_rows, img_cols, channels)))\n",
    "    model.add(Activation('relu'))\n",
    "\n",
    "    #adding anonther conv layer with relu activation\n",
    "    model.add(Conv2D(32, (3, 3)))\n",
    "    model.add(Activation('relu'))\n",
    "\n",
    "    #maxpooing\n",
    "    model.add(MaxPooling2D(pool_size=(2,2)))\n",
    "\n",
    "    #flattening the model\n",
    "    model.add(Flatten())\n",
    "\n",
    "    #Dense layer with number of training samples as neurons\n",
    "    model.add(Dense(nb_train_samples))\n",
    "    model.add(Activation('relu'))\n",
    "\n",
    "    #softmax layer\n",
    "    model.add(Dense(num_classes))\n",
    "    model.add(Activation('softmax'))\n",
    "    \n",
    "    return model"
   ]
  },
  {
   "cell_type": "markdown",
   "metadata": {
    "id": "bDubME56sVgU"
   },
   "source": [
    "## 7. Compilation and Training"
   ]
  },
  {
   "cell_type": "code",
   "execution_count": 16,
   "metadata": {
    "executionInfo": {
     "elapsed": 1210,
     "status": "ok",
     "timestamp": 1619464452456,
     "user": {
      "displayName": "Abhishek Barai",
      "photoUrl": "",
      "userId": "03670053452487652369"
     },
     "user_tz": -330
    },
    "id": "iIA2-_mVmKOt"
   },
   "outputs": [],
   "source": [
    "epochs= 30\n",
    "nb_train_samples = 1409\n",
    "nb_validation_samples = 353"
   ]
  },
  {
   "cell_type": "code",
   "execution_count": 17,
   "metadata": {
    "executionInfo": {
     "elapsed": 2353,
     "status": "ok",
     "timestamp": 1619464454765,
     "user": {
      "displayName": "Abhishek Barai",
      "photoUrl": "",
      "userId": "03670053452487652369"
     },
     "user_tz": -330
    },
    "id": "0D74tDHNKSyM"
   },
   "outputs": [],
   "source": [
    "# model function call\n",
    "model = create_model(img_rows,img_cols,channels,nb_train_samples, num_classes)\n",
    "\n",
    "#compilation of model\n",
    "model.compile(loss='categorical_crossentropy',\n",
    "              metrics=['accuracy'], \n",
    "              optimizer=Adam(0.001))"
   ]
  },
  {
   "cell_type": "code",
   "execution_count": 18,
   "metadata": {
    "colab": {
     "base_uri": "https://localhost:8080/"
    },
    "executionInfo": {
     "elapsed": 1231804,
     "status": "ok",
     "timestamp": 1619465691213,
     "user": {
      "displayName": "Abhishek Barai",
      "photoUrl": "",
      "userId": "03670053452487652369"
     },
     "user_tz": -330
    },
    "id": "nEtqwEgFzPjK",
    "outputId": "d8e21dd3-bdf8-46fb-f7c0-d5c590df66b4"
   },
   "outputs": [
    {
     "name": "stdout",
     "output_type": "stream",
     "text": [
      "Epoch 1/30\n",
      "44/44 [==============================] - 836s 19s/step - loss: 47.7782 - accuracy: 0.3782 - val_loss: 1.2185 - val_accuracy: 0.5085\n",
      "Epoch 2/30\n",
      "44/44 [==============================] - 15s 331ms/step - loss: 0.9554 - accuracy: 0.6848 - val_loss: 1.1963 - val_accuracy: 0.5994\n",
      "Epoch 3/30\n",
      "44/44 [==============================] - 14s 323ms/step - loss: 0.5830 - accuracy: 0.8190 - val_loss: 1.1426 - val_accuracy: 0.6108\n",
      "Epoch 4/30\n",
      "44/44 [==============================] - 15s 332ms/step - loss: 0.2250 - accuracy: 0.9352 - val_loss: 1.2941 - val_accuracy: 0.6307\n",
      "Epoch 5/30\n",
      "44/44 [==============================] - 14s 327ms/step - loss: 0.1460 - accuracy: 0.9620 - val_loss: 1.8458 - val_accuracy: 0.5824\n",
      "Epoch 6/30\n",
      "44/44 [==============================] - 14s 327ms/step - loss: 0.1081 - accuracy: 0.9656 - val_loss: 1.4853 - val_accuracy: 0.6420\n"
     ]
    }
   ],
   "source": [
    "# fitting model\n",
    "history = model.fit(train_generator, steps_per_epoch = nb_train_samples//batchsize, epochs=epochs, \n",
    "                    validation_data=valid_generator,\n",
    "                    validation_steps=nb_validation_samples//batchsize,\n",
    "                    callbacks = [earlyStopping, board, reduceLR])"
   ]
  },
  {
   "cell_type": "markdown",
   "metadata": {
    "id": "glNTY7jRBiLu"
   },
   "source": [
    "## 8. Save and plot model"
   ]
  },
  {
   "cell_type": "code",
   "execution_count": 19,
   "metadata": {
    "executionInfo": {
     "elapsed": 95734,
     "status": "ok",
     "timestamp": 1619465960804,
     "user": {
      "displayName": "Abhishek Barai",
      "photoUrl": "",
      "userId": "03670053452487652369"
     },
     "user_tz": -330
    },
    "id": "072fcQ_BJ9ln"
   },
   "outputs": [],
   "source": [
    "model.save('/content/drive/MyDrive/Dermnet/SavedModels/expeiment1.h5')  # creates a HDF5 file "
   ]
  },
  {
   "cell_type": "code",
   "execution_count": 20,
   "metadata": {
    "colab": {
     "base_uri": "https://localhost:8080/"
    },
    "executionInfo": {
     "elapsed": 95727,
     "status": "ok",
     "timestamp": 1619465960806,
     "user": {
      "displayName": "Abhishek Barai",
      "photoUrl": "",
      "userId": "03670053452487652369"
     },
     "user_tz": -330
    },
    "id": "vuP2xRSkpnFt",
    "outputId": "fe2ce814-3388-4fbe-c17e-a33fdee154b2"
   },
   "outputs": [
    {
     "name": "stdout",
     "output_type": "stream",
     "text": [
      "Model: \"sequential\"\n",
      "_________________________________________________________________\n",
      "Layer (type)                 Output Shape              Param #   \n",
      "=================================================================\n",
      "conv2d (Conv2D)              (None, 254, 254, 32)      896       \n",
      "_________________________________________________________________\n",
      "activation (Activation)      (None, 254, 254, 32)      0         \n",
      "_________________________________________________________________\n",
      "conv2d_1 (Conv2D)            (None, 252, 252, 32)      9248      \n",
      "_________________________________________________________________\n",
      "activation_1 (Activation)    (None, 252, 252, 32)      0         \n",
      "_________________________________________________________________\n",
      "max_pooling2d (MaxPooling2D) (None, 126, 126, 32)      0         \n",
      "_________________________________________________________________\n",
      "flatten (Flatten)            (None, 508032)            0         \n",
      "_________________________________________________________________\n",
      "dense (Dense)                (None, 1409)              715818497 \n",
      "_________________________________________________________________\n",
      "activation_2 (Activation)    (None, 1409)              0         \n",
      "_________________________________________________________________\n",
      "dense_1 (Dense)              (None, 5)                 7050      \n",
      "_________________________________________________________________\n",
      "activation_3 (Activation)    (None, 5)                 0         \n",
      "=================================================================\n",
      "Total params: 715,835,691\n",
      "Trainable params: 715,835,691\n",
      "Non-trainable params: 0\n",
      "_________________________________________________________________\n",
      "None\n"
     ]
    }
   ],
   "source": [
    "print(model.summary())"
   ]
  },
  {
   "cell_type": "code",
   "execution_count": 21,
   "metadata": {
    "colab": {
     "base_uri": "https://localhost:8080/",
     "height": 0
    },
    "executionInfo": {
     "elapsed": 97194,
     "status": "ok",
     "timestamp": 1619465962276,
     "user": {
      "displayName": "Abhishek Barai",
      "photoUrl": "",
      "userId": "03670053452487652369"
     },
     "user_tz": -330
    },
    "id": "l88q_vJ7ppPI",
    "outputId": "35e4ca49-4c9d-4478-b76b-806030579834"
   },
   "outputs": [
    {
     "data": {
      "image/jpeg": "[encoded data removed]",
      "text/plain": [
       "<IPython.core.display.Image object>"
      ]
     },
     "execution_count": 21,
     "metadata": {
      "tags": []
     },
     "output_type": "execute_result"
    }
   ],
   "source": [
    "tf.keras.utils.plot_model(model, to_file=\"experiment1.jpg\", show_shapes=True)"
   ]
  },
  {
   "cell_type": "markdown",
   "metadata": {
    "id": "RNCH42NPsdh9"
   },
   "source": [
    "## 9. Tensorboard"
   ]
  },
  {
   "cell_type": "code",
   "execution_count": 22,
   "metadata": {
    "executionInfo": {
     "elapsed": 1003,
     "status": "ok",
     "timestamp": 1619466023031,
     "user": {
      "displayName": "Abhishek Barai",
      "photoUrl": "",
      "userId": "03670053452487652369"
     },
     "user_tz": -330
    },
    "id": "9gyv-OIllAla"
   },
   "outputs": [],
   "source": [
    "#getting tensorboard modek\n",
    "#%tensorboard --logdir \"/content/drive/MyDrive/Dermnet/callbacks/tensorboard/20210409-135418\""
   ]
  },
  {
   "cell_type": "markdown",
   "metadata": {
    "id": "JaYPtN0jnAtv"
   },
   "source": [
    "## 10. Loss and Accuracy Plot"
   ]
  },
  {
   "cell_type": "code",
   "execution_count": 23,
   "metadata": {
    "colab": {
     "base_uri": "https://localhost:8080/",
     "height": 354
    },
    "executionInfo": {
     "elapsed": 2002,
     "status": "ok",
     "timestamp": 1619466038846,
     "user": {
      "displayName": "Abhishek Barai",
      "photoUrl": "",
      "userId": "03670053452487652369"
     },
     "user_tz": -330
    },
    "id": "PmpKqqtknAAu",
    "outputId": "a7749110-047a-4c95-93c1-f53bf1d2e590"
   },
   "outputs": [
    {
     "data": {
      "image/png": "[encoded data removed]",
      "text/plain": [
       "<Figure size 1080x360 with 1 Axes>"
      ]
     },
     "metadata": {
      "needs_background": "light",
      "tags": []
     },
     "output_type": "display_data"
    }
   ],
   "source": [
    "loss_plot(history.history[\"loss\"], history.history[\"val_loss\"], 6)"
   ]
  },
  {
   "cell_type": "code",
   "execution_count": 24,
   "metadata": {
    "colab": {
     "base_uri": "https://localhost:8080/",
     "height": 354
    },
    "executionInfo": {
     "elapsed": 1560,
     "status": "ok",
     "timestamp": 1619466038848,
     "user": {
      "displayName": "Abhishek Barai",
      "photoUrl": "",
      "userId": "03670053452487652369"
     },
     "user_tz": -330
    },
    "id": "xBOHln4BnADi",
    "outputId": "4361afa7-a5ee-4490-aa45-d0f18042c812"
   },
   "outputs": [
    {
     "data": {
      "image/png": "[encoded data removed]",
      "text/plain": [
       "<Figure size 1080x360 with 1 Axes>"
      ]
     },
     "metadata": {
      "needs_background": "light",
      "tags": []
     },
     "output_type": "display_data"
    }
   ],
   "source": [
    "accuracy_plot(history.history[\"accuracy\"], history.history[\"val_accuracy\"], 6)"
   ]
  },
  {
   "cell_type": "markdown",
   "metadata": {
    "id": "yhoofjsjnM5B"
   },
   "source": [
    "## 11.Prediction"
   ]
  },
  {
   "cell_type": "code",
   "execution_count": 25,
   "metadata": {
    "colab": {
     "base_uri": "https://localhost:8080/"
    },
    "executionInfo": {
     "elapsed": 242964,
     "status": "ok",
     "timestamp": 1619466296031,
     "user": {
      "displayName": "Abhishek Barai",
      "photoUrl": "",
      "userId": "03670053452487652369"
     },
     "user_tz": -330
    },
    "id": "shR5e_1InAGu",
    "outputId": "4c4c3dec-692f-4043-a24b-0dfdfd960af4"
   },
   "outputs": [
    {
     "name": "stdout",
     "output_type": "stream",
     "text": [
      "Found 510 validated image filenames.\n"
     ]
    }
   ],
   "source": [
    "### test generator for prediction of output images\n",
    "test_generator = datagen.flow_from_dataframe(dataframe = merged_test_df, \n",
    "                                            directory=\"/content/drive/MyDrive/Dermnet/Images/test/\", \n",
    "                                            x_col=\"path\", \n",
    "                                            y_col=None, \n",
    "                                            class_mode=None,\n",
    "                                            subset=None,\n",
    "                                            shuffle=False,\n",
    "                                            target_size=(img_rows, img_cols),\n",
    "                                            batch_size = batchsize,\n",
    "                                            color_mode='rgb')\n",
    "\n",
    "#predicting all values\n",
    "output_scores = model.predict_generator(test_generator)"
   ]
  },
  {
   "cell_type": "markdown",
   "metadata": {
    "id": "6VyHaIwnnzOR"
   },
   "source": [
    "## 12. Evaluation Metric"
   ]
  },
  {
   "cell_type": "code",
   "execution_count": 26,
   "metadata": {
    "colab": {
     "base_uri": "https://localhost:8080/",
     "height": 714
    },
    "executionInfo": {
     "elapsed": 235874,
     "status": "ok",
     "timestamp": 1619466296923,
     "user": {
      "displayName": "Abhishek Barai",
      "photoUrl": "",
      "userId": "03670053452487652369"
     },
     "user_tz": -330
    },
    "id": "XHN0-PSAnAJa",
    "outputId": "a68e9f33-ba82-4a8e-fd99-c472d0975196"
   },
   "outputs": [
    {
     "name": "stdout",
     "output_type": "stream",
     "text": [
      "              precision    recall  f1-score   support\n",
      "\n",
      "           0       0.64      0.50      0.56        46\n",
      "           1       0.45      0.59      0.51        86\n",
      "           2       0.57      0.73      0.64       115\n",
      "           3       0.84      0.75      0.79       210\n",
      "           4       0.54      0.25      0.34        53\n",
      "\n",
      "    accuracy                           0.65       510\n",
      "   macro avg       0.61      0.56      0.57       510\n",
      "weighted avg       0.66      0.65      0.64       510\n",
      "\n"
     ]
    },
    {
     "data": {
      "text/plain": [
       "<matplotlib.axes._subplots.AxesSubplot at 0x7f1fb0185250>"
      ]
     },
     "execution_count": 26,
     "metadata": {
      "tags": []
     },
     "output_type": "execute_result"
    },
    {
     "data": {
      "image/png": "[encoded data removed]",
      "text/plain": [
       "<Figure size 576x576 with 2 Axes>"
      ]
     },
     "metadata": {
      "needs_background": "light",
      "tags": []
     },
     "output_type": "display_data"
    }
   ],
   "source": [
    "#getting output scores\n",
    "class_outputs = [max(enumerate(val), key=operator.itemgetter(1)) for val in output_scores]\n",
    "#getting prediction values\n",
    "y_pred = [val[0] for val in class_outputs]\n",
    "\n",
    "\n",
    "#getting confusion metrix\n",
    "conf_matrix = confusion_matrix(y_true, y_pred)\n",
    "\n",
    "\n",
    "#getting classification report \n",
    "print(classification_report(y_true, y_pred))\n",
    "\n",
    "\n",
    "fig = plt.figure(figsize=(8,8))\n",
    "sns.heatmap(conf_matrix, annot=True, cmap =\"Blues\", fmt=\"d\")"
   ]
  }
 ],
 "metadata": {
  "accelerator": "GPU",
  "colab": {
   "collapsed_sections": [],
   "machine_shape": "hm",
   "name": "exp_1_custom_model_1_without_augmentation.ipynb",
   "provenance": []
  },
  "kernelspec": {
   "display_name": "Python 3",
   "language": "python",
   "name": "python3"
  },
  "language_info": {
   "codemirror_mode": {
    "name": "ipython",
    "version": 3
   },
   "file_extension": ".py",
   "mimetype": "text/x-python",
   "name": "python",
   "nbconvert_exporter": "python",
   "pygments_lexer": "ipython3",
   "version": "3.8.5"
  }
 },
 "nbformat": 4,
 "nbformat_minor": 1
}

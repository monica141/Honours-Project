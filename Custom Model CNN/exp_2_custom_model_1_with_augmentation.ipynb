{
 "cells": [
  {
   "cell_type": "markdown",
   "metadata": {
    "id": "JXv6fbOgbCEf"
   },
   "source": [
    "# custom model one - with augmentation\n"
   ]
  },
  {
   "cell_type": "markdown",
   "metadata": {
    "id": "ocVW1vKrqmIu"
   },
   "source": [
    "## Context\n",
    "The data consists of images of 23 types of skin diseases taken from http://www.dermnet.com/dermatology-pictures-skin-disease-pictures. The total number of images are around 19,500, out of which approximately 15,500 have been split in the training set and the remaining in the test set."
   ]
  },
  {
   "cell_type": "code",
   "execution_count": 1,
   "metadata": {
    "colab": {
     "base_uri": "https://localhost:8080/"
    },
    "executionInfo": {
     "elapsed": 2220,
     "status": "ok",
     "timestamp": 1619467555155,
     "user": {
      "displayName": "Abhishek Barai",
      "photoUrl": "",
      "userId": "03670053452487652369"
     },
     "user_tz": -330
    },
    "id": "K91eMG8j6lEH",
    "outputId": "6354fd1d-e883-4a57-b0bc-4c5a98e01af0"
   },
   "outputs": [
    {
     "name": "stdout",
     "output_type": "stream",
     "text": [
      "Drive already mounted at /content/drive; to attempt to forcibly remount, call drive.mount(\"/content/drive\", force_remount=True).\n"
     ]
    }
   ],
   "source": [
    "from google.colab import drive\n",
    "drive.mount('/content/drive')"
   ]
  },
  {
   "cell_type": "markdown",
   "metadata": {
    "id": "RlCR1vzx9m9a"
   },
   "source": [
    "## 1. Import Libraries"
   ]
  },
  {
   "cell_type": "code",
   "execution_count": 2,
   "metadata": {
    "executionInfo": {
     "elapsed": 5973,
     "status": "ok",
     "timestamp": 1619467558914,
     "user": {
      "displayName": "Abhishek Barai",
      "photoUrl": "",
      "userId": "03670053452487652369"
     },
     "user_tz": -330
    },
    "id": "CW-bpoj5fomI"
   },
   "outputs": [],
   "source": [
    "import datetime\n",
    "import operator\n",
    "##open cv\n",
    "import cv2\n",
    "from google.colab.patches import cv2_imshow\n",
    "import random\n",
    "#numpy-pandas\n",
    "import numpy as np\n",
    "import pandas as pd\n",
    "from sklearn.model_selection import train_test_split\n",
    "#visualization\n",
    "import seaborn as sns\n",
    "import matplotlib.pyplot as plt\n",
    "\n",
    "#tensorflow and utilities\n",
    "import tensorflow as tf\n",
    "from tensorflow.keras.utils import plot_model\n",
    "from tensorflow.keras.backend import clear_session\n",
    "from tensorflow.keras.preprocessing.image import ImageDataGenerator, load_img, img_to_array\n",
    "from tensorflow.keras import regularizers\n",
    "\n",
    "#tensorflow model, layers, optimizers etc\n",
    "from tensorflow.keras import Input \n",
    "from tensorflow.keras.models import Sequential, Model\n",
    "from tensorflow.keras.optimizers import RMSprop,SGD,Adam\n",
    "from tensorflow.keras.layers import Conv2D, MaxPool2D, Dense, Flatten, Dropout, Activation, BatchNormalization\n",
    "from tensorflow.keras.layers import MaxPooling2D, concatenate, AveragePooling2D, GlobalAveragePooling2D\n",
    "\n",
    "#callbacks\n",
    "from tensorflow.keras.callbacks import BaseLogger, CSVLogger, EarlyStopping, ModelCheckpoint\n",
    "from tensorflow.keras.callbacks import LearningRateScheduler, TensorBoard, ReduceLROnPlateau\n",
    "\n",
    "#pretrained models\n",
    "from keras.applications.resnet50 import ResNet50\n",
    "from tensorflow.keras.applications.vgg16 import VGG16\n",
    "from tensorflow.keras.applications.vgg16 import  preprocess_input\n",
    "from tensorflow.keras.applications.resnet import  preprocess_input\n",
    "\n",
    "import warnings\n",
    "warnings.filterwarnings(\"ignore\")\n",
    "\n",
    "from sklearn.metrics import classification_report, confusion_matrix, plot_confusion_matrix"
   ]
  },
  {
   "cell_type": "markdown",
   "metadata": {
    "id": "x9Fz0c7Q9rwl"
   },
   "source": [
    "## 2. Import Data"
   ]
  },
  {
   "cell_type": "code",
   "execution_count": 3,
   "metadata": {
    "executionInfo": {
     "elapsed": 5968,
     "status": "ok",
     "timestamp": 1619467558915,
     "user": {
      "displayName": "Abhishek Barai",
      "photoUrl": "",
      "userId": "03670053452487652369"
     },
     "user_tz": -330
    },
    "id": "ktKw8GZ9hTAe"
   },
   "outputs": [],
   "source": [
    "#getting dataframes of train and test data\n",
    "train_df = pd.read_csv(\"/content/drive/MyDrive/Dermnet/Files/final_dataframe/final_train_df.csv\")\n",
    "test_df = pd.read_csv(\"/content/drive/MyDrive/Dermnet/Files/final_dataframe/final_test_df.csv\")"
   ]
  },
  {
   "cell_type": "code",
   "execution_count": 4,
   "metadata": {
    "colab": {
     "base_uri": "https://localhost:8080/"
    },
    "executionInfo": {
     "elapsed": 5958,
     "status": "ok",
     "timestamp": 1619467558916,
     "user": {
      "displayName": "Abhishek Barai",
      "photoUrl": "",
      "userId": "03670053452487652369"
     },
     "user_tz": -330
    },
    "id": "h2JaB5oQjCwt",
    "outputId": "4f83f2b0-cd16-4eea-a9d2-800eb839fd9e"
   },
   "outputs": [
    {
     "name": "stdout",
     "output_type": "stream",
     "text": [
      "Shape of train dataset is (14523, 4).\n",
      "Shape of test dataset is (3527, 4).\n"
     ]
    }
   ],
   "source": [
    "train_df[\"path\"] = train_df[\"class\"] + \"/\" + train_df[\"image_name\"]\n",
    "test_df[\"path\"] = test_df[\"class\"] + \"/\" + test_df[\"image_name\"]\n",
    "\n",
    "print(\"Shape of train dataset is {}.\".format(train_df.shape))\n",
    "print(\"Shape of test dataset is {}.\".format(test_df.shape))"
   ]
  },
  {
   "cell_type": "code",
   "execution_count": 5,
   "metadata": {
    "colab": {
     "base_uri": "https://localhost:8080/"
    },
    "executionInfo": {
     "elapsed": 5946,
     "status": "ok",
     "timestamp": 1619467558917,
     "user": {
      "displayName": "Abhishek Barai",
      "photoUrl": "",
      "userId": "03670053452487652369"
     },
     "user_tz": -330
    },
    "id": "FtJKFxd0mDwa",
    "outputId": "320ba24c-27d6-4b25-bee1-3f9abef6af44"
   },
   "outputs": [
    {
     "data": {
      "text/plain": [
       "Seborrheic Keratoses and other Benign Tumors                          1350\n",
       "Psoriasis pictures Lichen Planus and related diseases                 1297\n",
       "Eczema Photos                                                         1222\n",
       "Tinea Ringworm Candidiasis and other Fungal Infections                1218\n",
       "Actinic Keratosis Basal Cell Carcinoma and other Malignant Lesions    1118\n",
       "Warts Molluscum and other Viral Infections                             985\n",
       "Nail Fungus and other Nail Disease                                     855\n",
       "Systemic Disease                                                       568\n",
       "Acne and Rosacea Photos                                                561\n",
       "Light Diseases and Disorders of Pigmentation                           546\n",
       "Atopic Dermatitis Photos                                               485\n",
       "Vascular Tumors                                                        482\n",
       "Melanoma Skin Cancer Nevi and Moles                                    456\n",
       "Bullous Disease Photos                                                 440\n",
       "Lupus and other Connective Tissue diseases                             415\n",
       "Vasculitis Photos                                                      405\n",
       "Exanthems and Drug Eruptions                                           397\n",
       "Scabies Lyme Disease and other Infestations and Bites                  383\n",
       "Herpes HPV and other STDs Photos                                       382\n",
       "Cellulitis Impetigo and other Bacterial Infections                     284\n",
       "Poison Ivy Photos and other Contact Dermatitis                         250\n",
       "Urticaria Hives                                                        212\n",
       "Hair Loss Photos Alopecia and other Hair Diseases                      212\n",
       "Name: class, dtype: int64"
      ]
     },
     "execution_count": 5,
     "metadata": {
      "tags": []
     },
     "output_type": "execute_result"
    }
   ],
   "source": [
    "train_df[\"class\"].value_counts()"
   ]
  },
  {
   "cell_type": "code",
   "execution_count": 6,
   "metadata": {
    "colab": {
     "base_uri": "https://localhost:8080/"
    },
    "executionInfo": {
     "elapsed": 5939,
     "status": "ok",
     "timestamp": 1619467558918,
     "user": {
      "displayName": "Abhishek Barai",
      "photoUrl": "",
      "userId": "03670053452487652369"
     },
     "user_tz": -330
    },
    "id": "DBBsC2j_nzFN",
    "outputId": "596d7263-acf2-4ed6-b51b-037d7387637b"
   },
   "outputs": [
    {
     "data": {
      "text/plain": [
       "Psoriasis pictures Lichen Planus and related diseases                 339\n",
       "Seborrheic Keratoses and other Benign Tumors                          339\n",
       "Tinea Ringworm Candidiasis and other Fungal Infections                309\n",
       "Eczema Photos                                                         300\n",
       "Actinic Keratosis Basal Cell Carcinoma and other Malignant Lesions    283\n",
       "Warts Molluscum and other Viral Infections                            247\n",
       "Nail Fungus and other Nail Disease                                    210\n",
       "Systemic Disease                                                      143\n",
       "Light Diseases and Disorders of Pigmentation                          137\n",
       "Vascular Tumors                                                       121\n",
       "Atopic Dermatitis Photos                                              120\n",
       "Melanoma Skin Cancer Nevi and Moles                                   115\n",
       "Bullous Disease Photos                                                113\n",
       "Vasculitis Photos                                                     104\n",
       "Lupus and other Connective Tissue diseases                            100\n",
       "Exanthems and Drug Eruptions                                          100\n",
       "Scabies Lyme Disease and other Infestations and Bites                  92\n",
       "Herpes HPV and other STDs Photos                                       86\n",
       "Cellulitis Impetigo and other Bacterial Infections                     70\n",
       "Poison Ivy Photos and other Contact Dermatitis                         59\n",
       "Urticaria Hives                                                        53\n",
       "Hair Loss Photos Alopecia and other Hair Diseases                      46\n",
       "Acne and Rosacea Photos                                                41\n",
       "Name: class, dtype: int64"
      ]
     },
     "execution_count": 6,
     "metadata": {
      "tags": []
     },
     "output_type": "execute_result"
    }
   ],
   "source": [
    "test_df[\"class\"].value_counts()"
   ]
  },
  {
   "cell_type": "markdown",
   "metadata": {
    "id": "vPDCt2gk9uMu"
   },
   "source": [
    "## 3. Class Selection\n",
    "\n",
    "* The classes selected below are based on the distinctive nature of them. Classes are:\n",
    "    * Hair Loss Photos Alopecia and other Hair Diseases\n",
    "    * Herpes HPV and other STDs Photos\n",
    "    * Melanoma Skin Cancer Nevi and Moles\n",
    "    * Nail Fungus and other Nail Disease\n",
    "    * Urticaria Hives"
   ]
  },
  {
   "cell_type": "code",
   "execution_count": 7,
   "metadata": {
    "colab": {
     "base_uri": "https://localhost:8080/"
    },
    "executionInfo": {
     "elapsed": 5929,
     "status": "ok",
     "timestamp": 1619467558919,
     "user": {
      "displayName": "Abhishek Barai",
      "photoUrl": "",
      "userId": "03670053452487652369"
     },
     "user_tz": -330
    },
    "id": "mxjIA5fSlG5O",
    "outputId": "7f10a940-14a7-4ffd-9054-b8a4db0b30a5"
   },
   "outputs": [
    {
     "data": {
      "text/plain": [
       "Nail Fungus and other Nail Disease                   500\n",
       "Melanoma Skin Cancer Nevi and Moles                  456\n",
       "Herpes HPV and other STDs Photos                     382\n",
       "Hair Loss Photos Alopecia and other Hair Diseases    212\n",
       "Urticaria Hives                                      212\n",
       "Name: class, dtype: int64"
      ]
     },
     "execution_count": 7,
     "metadata": {
      "tags": []
     },
     "output_type": "execute_result"
    }
   ],
   "source": [
    "class_to_keep = [\"Herpes HPV and other STDs Photos\", \"Melanoma Skin Cancer Nevi and Moles\", \"Hair Loss Photos Alopecia and other Hair Diseases\", \"Urticaria Hives\"]\n",
    "train_df_m1 = train_df[train_df[\"class\"].isin(class_to_keep)]\n",
    "test_df_m1 = test_df[test_df[\"class\"].isin(class_to_keep)]\n",
    "\n",
    "#getting only 500 images of nail fungus\n",
    "train_df_m2 = train_df[train_df[\"class\"] == \"Nail Fungus and other Nail Disease\"].iloc[0:500,:]\n",
    "test_df_m2 = test_df[test_df[\"class\"] == \"Nail Fungus and other Nail Disease\"].iloc[0:500,:]\n",
    "\n",
    "merged_train_df = pd.concat([train_df_m1, train_df_m2])\n",
    "merged_test_df = pd.concat([test_df_m1, test_df_m2])\n",
    "\n",
    "#getting the values counts\n",
    "merged_train_df[\"class\"].value_counts()"
   ]
  },
  {
   "cell_type": "markdown",
   "metadata": {
    "id": "mm3lWJhMx2Pi"
   },
   "source": [
    "### 3.1 train-test split"
   ]
  },
  {
   "cell_type": "code",
   "execution_count": 8,
   "metadata": {
    "colab": {
     "base_uri": "https://localhost:8080/"
    },
    "executionInfo": {
     "elapsed": 5922,
     "status": "ok",
     "timestamp": 1619467558920,
     "user": {
      "displayName": "Abhishek Barai",
      "photoUrl": "",
      "userId": "03670053452487652369"
     },
     "user_tz": -330
    },
    "id": "gHzgws6Gx1r3",
    "outputId": "09d4539c-c380-4560-fd16-4bcec597783e"
   },
   "outputs": [
    {
     "name": "stdout",
     "output_type": "stream",
     "text": [
      "Shape of train : (1409, 4).\n",
      "Shape of test : (353, 4).\n"
     ]
    }
   ],
   "source": [
    "train_df_final, validation_df_final = train_test_split(merged_train_df, test_size=0.20)\n",
    "print(\"Shape of train : {}.\".format(train_df_final.shape))\n",
    "print(\"Shape of test : {}.\".format(validation_df_final.shape))"
   ]
  },
  {
   "cell_type": "code",
   "execution_count": 9,
   "metadata": {
    "executionInfo": {
     "elapsed": 5915,
     "status": "ok",
     "timestamp": 1619467558921,
     "user": {
      "displayName": "Abhishek Barai",
      "photoUrl": "",
      "userId": "03670053452487652369"
     },
     "user_tz": -330
    },
    "id": "QkeLmKoCsVc9"
   },
   "outputs": [],
   "source": [
    "merged_test_df[\"class_cat\"] = merged_test_df[\"class\"].astype('category').cat.codes\n",
    "y_true = merged_test_df[\"class_cat\"].values"
   ]
  },
  {
   "cell_type": "markdown",
   "metadata": {
    "id": "aIiVAMz_9zon"
   },
   "source": [
    "## 4. Image Pipeline"
   ]
  },
  {
   "cell_type": "code",
   "execution_count": 10,
   "metadata": {
    "executionInfo": {
     "elapsed": 5911,
     "status": "ok",
     "timestamp": 1619467558922,
     "user": {
      "displayName": "Abhishek Barai",
      "photoUrl": "",
      "userId": "03670053452487652369"
     },
     "user_tz": -330
    },
    "id": "BsKLNKcK99cj"
   },
   "outputs": [],
   "source": [
    "channels = 3\n",
    "batchsize = 32\n",
    "num_classes = 5\n",
    "img_rows = 256\n",
    "img_cols = 256 \n",
    "\n",
    "\n",
    "# creating a pipeline for image augmentation using imagedatagenerator\n",
    "datagen = ImageDataGenerator(rescale=1./255,\n",
    "                            rotation_range=30,\n",
    "                            shear_range=0.3,\n",
    "                            zoom_range=0.5,\n",
    "                            width_shift_range=0.4,\n",
    "                            height_shift_range=0.4,\n",
    "                            horizontal_flip=True,\n",
    "                            vertical_flip=True,\n",
    "                            brightness_range=(0.2,0.5),\n",
    "                            fill_mode='nearest')"
   ]
  },
  {
   "cell_type": "code",
   "execution_count": 11,
   "metadata": {
    "colab": {
     "base_uri": "https://localhost:8080/"
    },
    "executionInfo": {
     "elapsed": 5903,
     "status": "ok",
     "timestamp": 1619467558923,
     "user": {
      "displayName": "Abhishek Barai",
      "photoUrl": "",
      "userId": "03670053452487652369"
     },
     "user_tz": -330
    },
    "id": "wUZh5FcIiXpz",
    "outputId": "be848aff-43b7-4435-9627-b7f9d98ce57d"
   },
   "outputs": [
    {
     "name": "stdout",
     "output_type": "stream",
     "text": [
      "Found 1409 validated image filenames belonging to 5 classes.\n"
     ]
    }
   ],
   "source": [
    "#Train Generator\n",
    "train_generator=datagen.flow_from_dataframe(dataframe = train_df_final, \n",
    "                                            directory=\"/content/drive/MyDrive/Dermnet/Images/train/\", \n",
    "                                            x_col=\"path\", \n",
    "                                            y_col=\"class\", \n",
    "                                            class_mode=\"categorical\",\n",
    "                                            subset=\"training\",\n",
    "                                            shuffle=True,\n",
    "                                            target_size=(img_rows, img_cols),\n",
    "                                            batch_size = batchsize,\n",
    "                                            color_mode='rgb',\n",
    "                                            seed=42)"
   ]
  },
  {
   "cell_type": "code",
   "execution_count": 12,
   "metadata": {
    "colab": {
     "base_uri": "https://localhost:8080/"
    },
    "executionInfo": {
     "elapsed": 6454,
     "status": "ok",
     "timestamp": 1619467559483,
     "user": {
      "displayName": "Abhishek Barai",
      "photoUrl": "",
      "userId": "03670053452487652369"
     },
     "user_tz": -330
    },
    "id": "da5H5ot0jeuy",
    "outputId": "044fe84f-e344-47dd-dcc5-26f1b9c52bb3"
   },
   "outputs": [
    {
     "name": "stdout",
     "output_type": "stream",
     "text": [
      "Found 353 validated image filenames belonging to 5 classes.\n"
     ]
    }
   ],
   "source": [
    "#Validation Generator\n",
    "valid_generator=datagen.flow_from_dataframe(dataframe = validation_df_final, \n",
    "                                            directory=\"/content/drive/MyDrive/Dermnet/Images/train/\", \n",
    "                                            x_col=\"path\", \n",
    "                                            y_col=\"class\", \n",
    "                                            class_mode=\"categorical\",\n",
    "                                            subset=\"training\",\n",
    "                                            shuffle=True,\n",
    "                                            target_size=(img_rows, img_cols),\n",
    "                                            batch_size = batchsize,\n",
    "                                            color_mode='rgb',\n",
    "                                            seed=42)"
   ]
  },
  {
   "cell_type": "markdown",
   "metadata": {
    "id": "at6cS6e8-Eeu"
   },
   "source": [
    "## 5. Callbacks and functions"
   ]
  },
  {
   "cell_type": "code",
   "execution_count": 13,
   "metadata": {
    "executionInfo": {
     "elapsed": 6447,
     "status": "ok",
     "timestamp": 1619467559485,
     "user": {
      "displayName": "Abhishek Barai",
      "photoUrl": "",
      "userId": "03670053452487652369"
     },
     "user_tz": -330
    },
    "id": "xoHacz3Z-9WB"
   },
   "outputs": [],
   "source": [
    "#Loading TensorBoard\n",
    "%load_ext tensorboard\n",
    "\n",
    "# Clear any logs from previous runs\n",
    "!rm -rf ./logs/ "
   ]
  },
  {
   "cell_type": "code",
   "execution_count": 14,
   "metadata": {
    "executionInfo": {
     "elapsed": 6443,
     "status": "ok",
     "timestamp": 1619467559486,
     "user": {
      "displayName": "Abhishek Barai",
      "photoUrl": "",
      "userId": "03670053452487652369"
     },
     "user_tz": -330
    },
    "id": "E8dNzxc2-RmS"
   },
   "outputs": [],
   "source": [
    "#rensorboard\n",
    "log_dir = \"/content/drive/MyDrive/Dermnet/callbacks/tensorboard/\" + datetime.datetime.now().strftime(\"%Y%m%d-%H%M%S\")\n",
    "board = TensorBoard(log_dir = log_dir,\n",
    "                    histogram_freq=1,\n",
    "                    write_graph=True,\n",
    "                    write_grads=False)\n",
    "\n",
    "#reduce learning rate\n",
    "reduceLR = ReduceLROnPlateau(monitor='val_loss',\n",
    "                             factor=0.2,\n",
    "                             patience=2,\n",
    "                             min_lr=0.001)"
   ]
  },
  {
   "cell_type": "code",
   "execution_count": 15,
   "metadata": {
    "executionInfo": {
     "elapsed": 6437,
     "status": "ok",
     "timestamp": 1619467559487,
     "user": {
      "displayName": "Abhishek Barai",
      "photoUrl": "",
      "userId": "03670053452487652369"
     },
     "user_tz": -330
    },
    "id": "Bza6JJTFNBOu"
   },
   "outputs": [],
   "source": [
    "def loss_plot(train_loss, test_loss, total_epoch):\n",
    "    \"\"\"\n",
    "    This function plots the loss graph of both train and validation dataset.\n",
    "    \"\"\"\n",
    "    fig = plt.figure(figsize=(15,5))  #setting up figure size\n",
    "    plt.plot(train_loss);  plt.plot(test_loss)\n",
    "    #setting up ticks\n",
    "    plt.xticks(range(1,total_epoch))\n",
    "    plt.legend([\"Train_Loss\", \"Validation_Loss\"])\n",
    "    #setting up labels\n",
    "    plt.xlabel(\"Number of Epochs\", fontsize=10)\n",
    "    plt.ylabel(\"Log Loss\", fontsize=10)\n",
    "    plt.title(\"Loss Plot for train and validation dataset\", fontsize=20)\n",
    "    return plt.show()\n",
    "\n",
    "\n",
    "\n",
    "def accuracy_plot(train_accuracy, test_accuracy, total_epoch):\n",
    "    \"\"\"\n",
    "    This function plots the accuracy graph of both train and validation dataset.\n",
    "    \"\"\"\n",
    "    fig = plt.figure(figsize=(15,5))  #setting up figure size\n",
    "    plt.plot(train_accuracy);  plt.plot(test_accuracy)\n",
    "    #setting up ticks\n",
    "    plt.xticks(range(1,total_epoch))\n",
    "    plt.legend([\"Train_Accuracy\", \"Validation_Accuracy\"])\n",
    "    #setting up labels\n",
    "    plt.xlabel(\"Number of Epochs\", fontsize=10)\n",
    "    plt.ylabel(\"Accuracy\", fontsize=10)\n",
    "    plt.title(\"Accuracy Plot for train and validation dataset\", fontsize=20)\n",
    "    return plt.show()\n"
   ]
  },
  {
   "cell_type": "markdown",
   "metadata": {
    "id": "QerBBpYF_Qvb"
   },
   "source": [
    "## 6. Custom Model one with Augmentation"
   ]
  },
  {
   "cell_type": "code",
   "execution_count": 16,
   "metadata": {
    "executionInfo": {
     "elapsed": 6433,
     "status": "ok",
     "timestamp": 1619467559488,
     "user": {
      "displayName": "Abhishek Barai",
      "photoUrl": "",
      "userId": "03670053452487652369"
     },
     "user_tz": -330
    },
    "id": "7fPWBexzKSvW"
   },
   "outputs": [],
   "source": [
    "def create_model(img_rows, img_cols, channels, nb_train_samples, num_classes):\n",
    "    \"\"\"\n",
    "    This function use 2 convolutional layers with below configuration to train the model.\n",
    "        Padding = valid; Stride = (1,1); kernel = (3,3)\n",
    "    input:\n",
    "    ------\n",
    "        img_rows           : width of the image\n",
    "        img_cols           : height of the image\n",
    "        channels           : rgb(3), grayscale(1)\n",
    "        nb_train_samples   : number of training samples\n",
    "        num_classes        : number of classes to be trained\n",
    "    output:\n",
    "    -------\n",
    "        model setup\n",
    "    \"\"\"\n",
    "    clear_session()\n",
    "    #creating sequential model\n",
    "    model = Sequential()\n",
    "    #adding conv layer with relu activation\n",
    "    model.add(Conv2D(32,(3,3), input_shape=(img_rows, img_cols, channels)))\n",
    "    model.add(Activation('relu'))\n",
    "\n",
    "    #adding anonther conv layer with relu activation\n",
    "    model.add(Conv2D(32, (3, 3)))\n",
    "    model.add(Activation('relu'))\n",
    "\n",
    "    #maxpooing\n",
    "    model.add(MaxPooling2D(pool_size=(2,2)))\n",
    "\n",
    "    #flattening the model\n",
    "    model.add(Flatten())\n",
    "\n",
    "    #Dense layer with number of training samples as neurons\n",
    "    model.add(Dense(nb_train_samples))\n",
    "    model.add(Activation('relu'))\n",
    "\n",
    "    #softmax layer\n",
    "    model.add(Dense(num_classes))\n",
    "    model.add(Activation('softmax'))\n",
    "    \n",
    "    return model"
   ]
  },
  {
   "cell_type": "markdown",
   "metadata": {
    "id": "bDubME56sVgU"
   },
   "source": [
    "## 7. Compilation and Training"
   ]
  },
  {
   "cell_type": "code",
   "execution_count": 17,
   "metadata": {
    "executionInfo": {
     "elapsed": 6429,
     "status": "ok",
     "timestamp": 1619467559488,
     "user": {
      "displayName": "Abhishek Barai",
      "photoUrl": "",
      "userId": "03670053452487652369"
     },
     "user_tz": -330
    },
    "id": "iIA2-_mVmKOt"
   },
   "outputs": [],
   "source": [
    "epochs= 10\n",
    "nb_train_samples = 1409\n",
    "nb_validation_samples = 353"
   ]
  },
  {
   "cell_type": "code",
   "execution_count": 18,
   "metadata": {
    "executionInfo": {
     "elapsed": 7068,
     "status": "ok",
     "timestamp": 1619467560137,
     "user": {
      "displayName": "Abhishek Barai",
      "photoUrl": "",
      "userId": "03670053452487652369"
     },
     "user_tz": -330
    },
    "id": "0D74tDHNKSyM"
   },
   "outputs": [],
   "source": [
    "# model function call\n",
    "model = create_model(img_rows,img_cols,channels,nb_train_samples, num_classes)\n",
    "\n",
    "#compilation of model\n",
    "model.compile(loss='categorical_crossentropy',\n",
    "              metrics=['accuracy'], \n",
    "              optimizer=Adam(0.001))"
   ]
  },
  {
   "cell_type": "code",
   "execution_count": 19,
   "metadata": {
    "colab": {
     "base_uri": "https://localhost:8080/"
    },
    "executionInfo": {
     "elapsed": 475865,
     "status": "ok",
     "timestamp": 1619468028941,
     "user": {
      "displayName": "Abhishek Barai",
      "photoUrl": "",
      "userId": "03670053452487652369"
     },
     "user_tz": -330
    },
    "id": "nEtqwEgFzPjK",
    "outputId": "d75d9d9e-c664-4e53-8ab6-0f3937b80601"
   },
   "outputs": [
    {
     "name": "stdout",
     "output_type": "stream",
     "text": [
      "Epoch 1/10\n",
      "44/44 [==============================] - 63s 1s/step - loss: 11.6801 - accuracy: 0.2027 - val_loss: 1.4576 - val_accuracy: 0.4205\n",
      "Epoch 2/10\n",
      "44/44 [==============================] - 45s 1s/step - loss: 1.4734 - accuracy: 0.4281 - val_loss: 1.3892 - val_accuracy: 0.5000\n",
      "Epoch 3/10\n",
      "44/44 [==============================] - 43s 973ms/step - loss: 1.3904 - accuracy: 0.4555 - val_loss: 1.3713 - val_accuracy: 0.4602\n",
      "Epoch 4/10\n",
      "44/44 [==============================] - 42s 954ms/step - loss: 1.3175 - accuracy: 0.4758 - val_loss: 1.3158 - val_accuracy: 0.4688\n",
      "Epoch 5/10\n",
      "44/44 [==============================] - 46s 1s/step - loss: 1.3353 - accuracy: 0.4751 - val_loss: 1.2739 - val_accuracy: 0.4574\n",
      "Epoch 6/10\n",
      "44/44 [==============================] - 47s 1s/step - loss: 1.2846 - accuracy: 0.4596 - val_loss: 1.2012 - val_accuracy: 0.5369\n",
      "Epoch 7/10\n",
      "44/44 [==============================] - 48s 1s/step - loss: 1.2486 - accuracy: 0.4893 - val_loss: 1.2077 - val_accuracy: 0.5455\n",
      "Epoch 8/10\n",
      "44/44 [==============================] - 46s 1s/step - loss: 1.3103 - accuracy: 0.4504 - val_loss: 1.2453 - val_accuracy: 0.5057\n",
      "Epoch 9/10\n",
      "44/44 [==============================] - 43s 971ms/step - loss: 1.1821 - accuracy: 0.5089 - val_loss: 1.2604 - val_accuracy: 0.5199\n",
      "Epoch 10/10\n",
      "44/44 [==============================] - 44s 994ms/step - loss: 1.2408 - accuracy: 0.4814 - val_loss: 1.1827 - val_accuracy: 0.5114\n"
     ]
    }
   ],
   "source": [
    "# fitting model\n",
    "history = model.fit(train_generator, steps_per_epoch = nb_train_samples//batchsize, epochs=epochs, \n",
    "                    validation_data=valid_generator,\n",
    "                    validation_steps=nb_validation_samples//batchsize,\n",
    "                    callbacks = [reduceLR])"
   ]
  },
  {
   "cell_type": "markdown",
   "metadata": {
    "id": "glNTY7jRBiLu"
   },
   "source": [
    "## 8. Save Model"
   ]
  },
  {
   "cell_type": "code",
   "execution_count": 20,
   "metadata": {
    "executionInfo": {
     "elapsed": 570231,
     "status": "ok",
     "timestamp": 1619468123315,
     "user": {
      "displayName": "Abhishek Barai",
      "photoUrl": "",
      "userId": "03670053452487652369"
     },
     "user_tz": -330
    },
    "id": "072fcQ_BJ9ln"
   },
   "outputs": [],
   "source": [
    "model.save('/content/drive/MyDrive/Dermnet/SavedModels/expeiment2.h5')  # creates a HDF5 file "
   ]
  },
  {
   "cell_type": "code",
   "execution_count": 21,
   "metadata": {
    "colab": {
     "base_uri": "https://localhost:8080/"
    },
    "executionInfo": {
     "elapsed": 570230,
     "status": "ok",
     "timestamp": 1619468123318,
     "user": {
      "displayName": "Abhishek Barai",
      "photoUrl": "",
      "userId": "03670053452487652369"
     },
     "user_tz": -330
    },
    "id": "7Svr-CTrp7-m",
    "outputId": "63870362-27bd-4b42-ee15-05f28a358823"
   },
   "outputs": [
    {
     "name": "stdout",
     "output_type": "stream",
     "text": [
      "Model: \"sequential\"\n",
      "_________________________________________________________________\n",
      "Layer (type)                 Output Shape              Param #   \n",
      "=================================================================\n",
      "conv2d (Conv2D)              (None, 254, 254, 32)      896       \n",
      "_________________________________________________________________\n",
      "activation (Activation)      (None, 254, 254, 32)      0         \n",
      "_________________________________________________________________\n",
      "conv2d_1 (Conv2D)            (None, 252, 252, 32)      9248      \n",
      "_________________________________________________________________\n",
      "activation_1 (Activation)    (None, 252, 252, 32)      0         \n",
      "_________________________________________________________________\n",
      "max_pooling2d (MaxPooling2D) (None, 126, 126, 32)      0         \n",
      "_________________________________________________________________\n",
      "flatten (Flatten)            (None, 508032)            0         \n",
      "_________________________________________________________________\n",
      "dense (Dense)                (None, 1409)              715818497 \n",
      "_________________________________________________________________\n",
      "activation_2 (Activation)    (None, 1409)              0         \n",
      "_________________________________________________________________\n",
      "dense_1 (Dense)              (None, 5)                 7050      \n",
      "_________________________________________________________________\n",
      "activation_3 (Activation)    (None, 5)                 0         \n",
      "=================================================================\n",
      "Total params: 715,835,691\n",
      "Trainable params: 715,835,691\n",
      "Non-trainable params: 0\n",
      "_________________________________________________________________\n",
      "None\n"
     ]
    }
   ],
   "source": [
    "print(model.summary())"
   ]
  },
  {
   "cell_type": "code",
   "execution_count": 22,
   "metadata": {
    "colab": {
     "base_uri": "https://localhost:8080/",
     "height": 1000
    },
    "executionInfo": {
     "elapsed": 570224,
     "status": "ok",
     "timestamp": 1619468123320,
     "user": {
      "displayName": "Abhishek Barai",
      "photoUrl": "",
      "userId": "03670053452487652369"
     },
     "user_tz": -330
    },
    "id": "hkK3Nw5rp8af",
    "outputId": "eb0ea36c-6db3-4cec-a4cf-27b870923b47"
   },
   "outputs": [
    {
     "data": {
      "image/jpeg": "[encoded data removed]",
      "text/plain": [
       "<IPython.core.display.Image object>"
      ]
     },
     "execution_count": 22,
     "metadata": {
      "tags": []
     },
     "output_type": "execute_result"
    }
   ],
   "source": [
    "tf.keras.utils.plot_model(model, to_file=\"experiment2.jpg\", show_shapes=True)"
   ]
  },
  {
   "cell_type": "markdown",
   "metadata": {
    "id": "JaYPtN0jnAtv"
   },
   "source": [
    "## 9. Loss and Accuracy Plot"
   ]
  },
  {
   "cell_type": "code",
   "execution_count": 28,
   "metadata": {
    "colab": {
     "base_uri": "https://localhost:8080/",
     "height": 354
    },
    "executionInfo": {
     "elapsed": 1851,
     "status": "ok",
     "timestamp": 1619468405189,
     "user": {
      "displayName": "Abhishek Barai",
      "photoUrl": "",
      "userId": "03670053452487652369"
     },
     "user_tz": -330
    },
    "id": "PmpKqqtknAAu",
    "outputId": "aa206c6e-5e0c-4ffc-dfb8-a6010b61d6e9"
   },
   "outputs": [
    {
     "data": {
      "image/png": "[encoded data removed]",
      "text/plain": [
       "<Figure size 1080x360 with 1 Axes>"
      ]
     },
     "metadata": {
      "needs_background": "light",
      "tags": []
     },
     "output_type": "display_data"
    }
   ],
   "source": [
    "loss_plot(history.history[\"loss\"], history.history[\"val_loss\"], 10)"
   ]
  },
  {
   "cell_type": "code",
   "execution_count": 29,
   "metadata": {
    "colab": {
     "base_uri": "https://localhost:8080/",
     "height": 354
    },
    "executionInfo": {
     "elapsed": 1525,
     "status": "ok",
     "timestamp": 1619468406209,
     "user": {
      "displayName": "Abhishek Barai",
      "photoUrl": "",
      "userId": "03670053452487652369"
     },
     "user_tz": -330
    },
    "id": "xBOHln4BnADi",
    "outputId": "2323e0c1-86c3-4d47-ade8-735609c78f23"
   },
   "outputs": [
    {
     "data": {
      "image/png": "[encoded data removed]",
      "text/plain": [
       "<Figure size 1080x360 with 1 Axes>"
      ]
     },
     "metadata": {
      "needs_background": "light",
      "tags": []
     },
     "output_type": "display_data"
    }
   ],
   "source": [
    "accuracy_plot(history.history[\"accuracy\"], history.history[\"val_accuracy\"], 10)"
   ]
  },
  {
   "cell_type": "markdown",
   "metadata": {
    "id": "yhoofjsjnM5B"
   },
   "source": [
    "## 10.Prediction"
   ]
  },
  {
   "cell_type": "code",
   "execution_count": 26,
   "metadata": {
    "colab": {
     "base_uri": "https://localhost:8080/"
    },
    "executionInfo": {
     "elapsed": 802977,
     "status": "ok",
     "timestamp": 1619468356105,
     "user": {
      "displayName": "Abhishek Barai",
      "photoUrl": "",
      "userId": "03670053452487652369"
     },
     "user_tz": -330
    },
    "id": "shR5e_1InAGu",
    "outputId": "3b202a25-e6f5-4f62-bb8f-ef8dc5e63355"
   },
   "outputs": [
    {
     "name": "stdout",
     "output_type": "stream",
     "text": [
      "Found 510 validated image filenames.\n"
     ]
    }
   ],
   "source": [
    "### test generator for prediction of output images\n",
    "test_generator = datagen.flow_from_dataframe(dataframe = merged_test_df, \n",
    "                                            directory=\"/content/drive/MyDrive/Dermnet/Images/test/\", \n",
    "                                            x_col=\"path\", \n",
    "                                            y_col=None, \n",
    "                                            class_mode=None,\n",
    "                                            subset=None,\n",
    "                                            shuffle=False,\n",
    "                                            target_size=(img_rows, img_cols),\n",
    "                                            batch_size = batchsize,\n",
    "                                            color_mode='rgb')\n",
    "\n",
    "#predicting all values\n",
    "output_scores = model.predict_generator(test_generator)"
   ]
  },
  {
   "cell_type": "markdown",
   "metadata": {
    "id": "6VyHaIwnnzOR"
   },
   "source": [
    "## 12. Evaluation Metric"
   ]
  },
  {
   "cell_type": "code",
   "execution_count": 27,
   "metadata": {
    "colab": {
     "base_uri": "https://localhost:8080/",
     "height": 714
    },
    "executionInfo": {
     "elapsed": 802975,
     "status": "ok",
     "timestamp": 1619468356109,
     "user": {
      "displayName": "Abhishek Barai",
      "photoUrl": "",
      "userId": "03670053452487652369"
     },
     "user_tz": -330
    },
    "id": "XHN0-PSAnAJa",
    "outputId": "b870534f-f7e0-4ec8-a748-798b1f1473e1"
   },
   "outputs": [
    {
     "name": "stdout",
     "output_type": "stream",
     "text": [
      "              precision    recall  f1-score   support\n",
      "\n",
      "           0       0.37      0.65      0.47        46\n",
      "           1       0.43      0.07      0.12        86\n",
      "           2       0.41      0.74      0.53       115\n",
      "           3       0.72      0.72      0.72       210\n",
      "           4       0.00      0.00      0.00        53\n",
      "\n",
      "    accuracy                           0.53       510\n",
      "   macro avg       0.39      0.44      0.37       510\n",
      "weighted avg       0.50      0.53      0.48       510\n",
      "\n"
     ]
    },
    {
     "data": {
      "text/plain": [
       "<matplotlib.axes._subplots.AxesSubplot at 0x7f3dc803c1d0>"
      ]
     },
     "execution_count": 27,
     "metadata": {
      "tags": []
     },
     "output_type": "execute_result"
    },
    {
     "data": {
      "image/png": "[encoded data removed]",
      "text/plain": [
       "<Figure size 576x576 with 2 Axes>"
      ]
     },
     "metadata": {
      "needs_background": "light",
      "tags": []
     },
     "output_type": "display_data"
    }
   ],
   "source": [
    "#getting output scores\n",
    "class_outputs = [max(enumerate(val), key=operator.itemgetter(1)) for val in output_scores]\n",
    "#getting prediction values\n",
    "y_pred = [val[0] for val in class_outputs]\n",
    "\n",
    "\n",
    "#getting confusion metrix\n",
    "conf_matrix = confusion_matrix(y_true, y_pred)\n",
    "\n",
    "\n",
    "#getting classification report \n",
    "print(classification_report(y_true, y_pred))\n",
    "\n",
    "\n",
    "fig = plt.figure(figsize=(8,8))\n",
    "sns.heatmap(conf_matrix, annot=True, cmap =\"Blues\", fmt=\"d\")"
   ]
  },
  {
   "cell_type": "code",
   "execution_count": 27,
   "metadata": {
    "executionInfo": {
     "elapsed": 802973,
     "status": "ok",
     "timestamp": 1619468356110,
     "user": {
      "displayName": "Abhishek Barai",
      "photoUrl": "",
      "userId": "03670053452487652369"
     },
     "user_tz": -330
    },
    "id": "IT8SFeU-nANE"
   },
   "outputs": [],
   "source": []
  }
 ],
 "metadata": {
  "accelerator": "GPU",
  "colab": {
   "collapsed_sections": [
    "ocVW1vKrqmIu"
   ],
   "machine_shape": "hm",
   "name": "exp_2_custom_model_1_with_augmentation.ipynb",
   "provenance": []
  },
  "kernelspec": {
   "display_name": "Python 3",
   "language": "python",
   "name": "python3"
  },
  "language_info": {
   "codemirror_mode": {
    "name": "ipython",
    "version": 3
   },
   "file_extension": ".py",
   "mimetype": "text/x-python",
   "name": "python",
   "nbconvert_exporter": "python",
   "pygments_lexer": "ipython3",
   "version": "3.8.5"
  }
 },
 "nbformat": 4,
 "nbformat_minor": 1
}
